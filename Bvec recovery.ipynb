{
 "cells": [
  {
   "cell_type": "code",
   "execution_count": 1,
   "metadata": {},
   "outputs": [],
   "source": [
    "import numpy as np\n",
    "import nibabel as nib\n",
    "import matplotlib.pyplot as pl\n",
    "\n",
    "%matplotlib widget"
   ]
  },
  {
   "cell_type": "code",
   "execution_count": 2,
   "metadata": {},
   "outputs": [
    {
     "name": "stdout",
     "output_type": "stream",
     "text": [
      "[[-4.98097330e-01  4.35778685e-02  1.86264426e-09  4.59166641e+01]\n",
      " [ 3.48028317e-02  3.97798240e-01 -3.00907344e-01 -5.57949867e+01]\n",
      " [ 2.62258146e-02  2.99762458e-01  3.99317592e-01 -6.18485413e+01]\n",
      " [ 0.00000000e+00  0.00000000e+00  0.00000000e+00  1.00000000e+00]]\n"
     ]
    }
   ],
   "source": [
    "# affine of bvec-less data\n",
    "DATA_PATH  = '/data/pt_02101_dMRI/007_C_C_NEGRA_ID/raw/200724_Connectom_WB/PMB200724_NEGRA_DIFF_nii/5_cbsepiseg_r52_0p5_b5k_TE72_Gap5p2_Slew13_1_of_6_e1.nii.gz'\n",
    "afff = nib.load(DATA_PATH).affine\n",
    "print(afff)"
   ]
  },
  {
   "cell_type": "code",
   "execution_count": 3,
   "metadata": {},
   "outputs": [
    {
     "name": "stdout",
     "output_type": "stream",
     "text": [
      "[[ 9.962e-01  8.716e-02  3.725e-09 -5.719e+01]\n",
      " [-6.961e-02  7.956e-01 -6.018e-01 -4.859e+01]\n",
      " [-5.245e-02  5.995e-01  7.986e-01 -5.642e+01]]\n"
     ]
    }
   ],
   "source": [
    "# transform matrix from mrinfo on same file (bvec-less data)\n",
    "mrinfo_trans = np.array([[ 0.9962,       0.08716,   3.725e-09,     -57.19],\n",
    "                         [-0.06961,      0.7956,     -0.6018,      -48.59],\n",
    "                         [-0.05245,      0.5995,      0.7986,      -56.42]])\n",
    "print(mrinfo_trans)\n",
    "\n",
    "mrinfo_stride = np.array([-1, 1, 1])\n",
    "mrinfo_voxsize = np.array([0.5, 0.5, 0.5])"
   ]
  },
  {
   "cell_type": "code",
   "execution_count": 4,
   "metadata": {},
   "outputs": [
    {
     "data": {
      "text/plain": [
       "array([[ 2.66966820e-06, -2.13150859e-06,  1.44261053e-13],\n",
       "       [-2.16829062e-06, -1.75981522e-06, -7.34362602e-06],\n",
       "       [ 8.14595819e-07,  1.24576092e-05,  1.75923824e-05]])"
      ]
     },
     "execution_count": 4,
     "metadata": {},
     "output_type": "execute_result"
    }
   ],
   "source": [
    "# seems to match with proper inclusion of strides and voxsize (i.e. rows are dimensions, not columns)\n",
    "afff[:3, :3] - (np.repeat(mrinfo_stride[:, None]*mrinfo_voxsize[:, None], 3, axis=1).T)*(mrinfo_trans[:, :3])"
   ]
  },
  {
   "cell_type": "markdown",
   "metadata": {},
   "source": [
    "# bvec recovery from dummy data "
   ]
  },
  {
   "cell_type": "code",
   "execution_count": 5,
   "metadata": {},
   "outputs": [],
   "source": [
    "# mrinfo of bvec_recovery dicom\n",
    "# /data/pt_02101_dMRI/007_C_C_NEGRA_ID/raw/200910_connectom_bvecrecovery\n",
    "\n",
    "#   Dimensions:        70 x 1 x 70 x 67\n",
    "#   Voxel size:        3 x 3 x 3 x ?\n",
    "#   Data strides:      [ -1 -4 -2 3 ]\n",
    "#   Format:            DICOM\n",
    "#   Data type:         unsigned 16 bit integer (little endian)\n",
    "#   Intensity scaling: offset = 0, multiplier = 1\n",
    "#   Transform:               0.9963    -0.06279    -0.05895      -91.13\n",
    "#                           0.08613      0.7263      0.6819      -113.3\n",
    "#                        -2.148e-10     -0.6845       0.729      -70.86\n",
    "#   EchoTime:          0.073\n",
    "#   PhaseEncodingDirection: i-\n",
    "#   TotalReadoutTime:  0.0345\n",
    "#   comments:          Test (20.09.10-12:49:09-DST-1.3.12.2.1107.5.2.0.19951) [MR] ep2d_diff_dummy_bvecs_acq\n",
    "#                      study: CE Sandbox [ ORIGINAL PRIMARY DIFFUSION NONE ND ]\n",
    "#                      DOB: 01/01/1970\n",
    "#                      DOS: 10/09/2020 13:00:17\n",
    "#   dw_scheme:         0,0,0,0\n",
    "#   [67 entries]       -0.01905577,-0.72920728000000001,0.68402742999999999,1000\n",
    "#                      ...\n",
    "#                      -0.85871333000000005,-0.33581792999999999,-0.3870886,1000\n",
    "#                      0,0,0,0\n"
   ]
  },
  {
   "cell_type": "code",
   "execution_count": 6,
   "metadata": {},
   "outputs": [],
   "source": [
    "# scanner bvecs file in horrible siemens format\n",
    "bvec_scanner_file = '/data/pt_02101_dMRI/007_C_C_NEGRA_ID/raw/200910_connectom_bvecrecovery/DiffDirs67.txt'\n",
    "f = open(bvec_scanner_file, 'r')\n",
    "bvec_raw = f.readlines()\n",
    "f.close()"
   ]
  },
  {
   "cell_type": "code",
   "execution_count": 7,
   "metadata": {},
   "outputs": [],
   "source": [
    "bvec_scanner = []\n",
    "for line in bvec_raw[2:]:\n",
    "    bvec_scanner.append(line.strip().split('=')[1][2:-2].split(', '))\n",
    "bvec_scanner = np.array(bvec_scanner, dtype=np.float)"
   ]
  },
  {
   "cell_type": "code",
   "execution_count": 8,
   "metadata": {},
   "outputs": [
    {
     "data": {
      "text/plain": [
       "array([0.        , 0.9999864 , 1.0000703 , 1.00003197, 0.9999885 ,\n",
       "       1.00010732, 1.00005672, 0.99999097, 0.99998545, 1.00008508,\n",
       "       0.99999882, 0.        , 0.99991185, 1.00004013, 0.9999827 ,\n",
       "       1.00012166, 1.00000487, 1.00007193, 1.0000255 , 1.00004371,\n",
       "       1.00001103, 1.00009107, 0.        , 1.00004137, 1.00012664,\n",
       "       0.99998634, 0.99998762, 0.99997668, 1.00011492, 1.00003508,\n",
       "       1.0000284 , 0.99994774, 0.99999403, 0.        , 1.00005184,\n",
       "       1.00005173, 0.99997747, 0.99999694, 1.00003988, 0.99997809,\n",
       "       1.00004184, 1.00000323, 1.00009183, 1.00003894, 0.        ,\n",
       "       0.99996447, 1.00010609, 0.99996261, 1.00009914, 0.99992576,\n",
       "       1.00010636, 0.99999265, 1.00007895, 1.00002829, 1.00003385,\n",
       "       0.        , 1.00008844, 1.00008293, 1.00000818, 1.00009077,\n",
       "       0.99993429, 0.99996802, 1.00002584, 1.00003731, 1.00006771,\n",
       "       1.00009454, 0.        ])"
      ]
     },
     "execution_count": 8,
     "metadata": {},
     "output_type": "execute_result"
    }
   ],
   "source": [
    "np.linalg.norm(bvec_scanner, axis=1)"
   ]
  },
  {
   "cell_type": "code",
   "execution_count": null,
   "metadata": {},
   "outputs": [],
   "source": []
  },
  {
   "cell_type": "code",
   "execution_count": null,
   "metadata": {},
   "outputs": [],
   "source": []
  },
  {
   "cell_type": "code",
   "execution_count": null,
   "metadata": {},
   "outputs": [],
   "source": []
  },
  {
   "cell_type": "code",
   "execution_count": null,
   "metadata": {},
   "outputs": [],
   "source": []
  },
  {
   "cell_type": "code",
   "execution_count": 9,
   "metadata": {},
   "outputs": [],
   "source": [
    "# bvec from bvec-recovery stride-1234 data\n",
    "bvec_1234 = np.genfromtxt('/data/pt_02101_dMRI/007_C_C_NEGRA_ID/preprocessed/200724_Connectom_WB/Test_ME_dMRI/bvec_recovery/stride_1234.bvecs').T"
   ]
  },
  {
   "cell_type": "code",
   "execution_count": 10,
   "metadata": {
    "scrolled": true
   },
   "outputs": [
    {
     "data": {
      "text/plain": [
       "array([0.        , 0.99999995, 0.99999998, 0.9999999 , 0.99999998,\n",
       "       1.00000014, 0.99999997, 1.00000009, 0.99999998, 0.99999999,\n",
       "       0.99999994, 0.        , 0.99999996, 1.00000015, 1.00000007,\n",
       "       0.99999996, 0.99999992, 1.00000007, 0.9999999 , 1.00000002,\n",
       "       0.99999988, 1.00000006, 0.        , 1.00000002, 1.00000003,\n",
       "       1.00000003, 0.99999999, 0.99999997, 0.99999996, 1.00000008,\n",
       "       1.00000001, 1.00000001, 1.        , 0.        , 0.99999989,\n",
       "       1.00000003, 1.        , 1.        , 1.        , 1.        ,\n",
       "       1.00000004, 1.00000004, 0.99999999, 0.99999982, 0.        ,\n",
       "       1.00000008, 1.        , 1.00000003, 0.99999993, 0.99999995,\n",
       "       0.99999992, 0.99999996, 1.00000004, 0.99999996, 1.00000011,\n",
       "       0.        , 0.99999993, 1.00000002, 1.00000006, 1.00000007,\n",
       "       0.99999997, 1.00000002, 0.99999999, 1.00000004, 0.99999989,\n",
       "       0.99999992, 0.        ])"
      ]
     },
     "execution_count": 10,
     "metadata": {},
     "output_type": "execute_result"
    }
   ],
   "source": [
    "np.linalg.norm(bvec_1234, axis=1)"
   ]
  },
  {
   "cell_type": "code",
   "execution_count": 11,
   "metadata": {},
   "outputs": [
    {
     "name": "stdout",
     "output_type": "stream",
     "text": [
      "[[ 2.98885250e+00 -1.76852778e-01 -1.88371554e-01 -9.11279907e+01]\n",
      " [ 2.58381009e-01  2.04576516e+00  2.17900991e+00 -1.13340965e+02]\n",
      " [-6.44264697e-10  2.18713689e+00 -2.05339527e+00 -7.08626556e+01]\n",
      " [ 0.00000000e+00  0.00000000e+00  0.00000000e+00  1.00000000e+00]]\n"
     ]
    }
   ],
   "source": [
    "# affine of bvec-less data\n",
    "DATA_PATH  = '/data/pt_02101_dMRI/007_C_C_NEGRA_ID/preprocessed/200724_Connectom_WB/Test_ME_dMRI/bvec_recovery/data_stride_1234.nii'\n",
    "aff = nib.load(DATA_PATH).affine\n",
    "print(aff)"
   ]
  },
  {
   "cell_type": "code",
   "execution_count": 12,
   "metadata": {},
   "outputs": [
    {
     "data": {
      "text/plain": [
       "array([[ 0.        ,  0.        ,  0.        ],\n",
       "       [ 0.1013894 , -0.73174831,  0.31264633],\n",
       "       [ 1.97220123,  0.04599148,  0.01997163],\n",
       "       [-0.41317842,  0.6903541 ,  0.39205729],\n",
       "       [-0.52756005, -0.36825496,  0.6694762 ],\n",
       "       [ 0.24295513,  0.68156593,  0.37812925],\n",
       "       [ 0.97370438, -0.54375998,  0.45661858],\n",
       "       [-1.69290397, -0.07469432,  0.42671978],\n",
       "       [ 0.43005098, -0.78737829,  0.07059744],\n",
       "       [ 0.75335807,  0.10639676,  0.71236237],\n",
       "       [ 1.41731435, -0.58655661, -0.18610908],\n",
       "       [ 0.        ,  0.        ,  0.        ],\n",
       "       [-1.2959294 , -0.53480292, -0.13973343],\n",
       "       [ 0.76645176, -0.36183222,  0.64138725],\n",
       "       [-1.6525477 ,  0.1957761 ,  0.45232402],\n",
       "       [ 1.10242599, -0.12874458,  0.63965795],\n",
       "       [-1.51305008, -0.33689674,  0.36348635],\n",
       "       [-0.16316194,  0.53806172,  0.59026768],\n",
       "       [-0.26580158, -0.58164962,  0.52364222],\n",
       "       [ 1.89995135, -0.1146261 ,  0.21222464],\n",
       "       [-0.27383698, -0.77273645,  0.0766587 ],\n",
       "       [-0.64219362,  0.10047724,  0.75862158],\n",
       "       [ 0.        ,  0.        ,  0.        ],\n",
       "       [ 1.14095223, -0.69073056,  0.03790037],\n",
       "       [ 0.97119848,  0.33168216,  0.57510316],\n",
       "       [-1.77361851,  0.36405928,  0.23921425],\n",
       "       [-0.56224793, -0.6801591 ,  0.30814108],\n",
       "       [-1.3983171 ,  0.43093711,  0.44482098],\n",
       "       [ 1.41195413,  0.35945727,  0.36339333],\n",
       "       [ 0.37791159, -0.5926415 ,  0.51666318],\n",
       "       [-1.1029044 ,  0.27109187,  0.63905686],\n",
       "       [-0.94646799, -0.66347426,  0.05876843],\n",
       "       [ 1.68012227, -0.48877769,  0.01743851],\n",
       "       [ 0.        ,  0.        ,  0.        ],\n",
       "       [-0.18206096, -0.15354458,  0.77766179],\n",
       "       [ 1.9468321 , -0.2487294 , -0.01385385],\n",
       "       [-0.62712014, -0.71111914, -0.16276535],\n",
       "       [ 1.35409567, -0.35101218,  0.47944626],\n",
       "       [-0.80259076,  0.48932483,  0.57664293],\n",
       "       [-0.912252  , -0.47993909,  0.4999518 ],\n",
       "       [ 1.34608779,  0.11471807,  0.54321682],\n",
       "       [-1.23628566, -0.24481463,  0.57229102],\n",
       "       [ 1.72197457, -0.3540816 ,  0.25088146],\n",
       "       [-0.38798252,  0.32447752,  0.7218879 ],\n",
       "       [ 0.        ,  0.        ,  0.        ],\n",
       "       [-1.15419691, -0.55179355,  0.27800386],\n",
       "       [ 0.29508613,  0.31927996,  0.70919843],\n",
       "       [-1.8449909 , -0.19658906,  0.18170873],\n",
       "       [ 0.04990861,  0.09219065,  0.78863252],\n",
       "       [-1.54416952, -0.44261311,  0.0959566 ],\n",
       "       [ 0.47366685, -0.13839609,  0.75523396],\n",
       "       [ 0.76654443, -0.7464085 , -0.15833057],\n",
       "       [ 1.74666179,  0.29820175,  0.11029631],\n",
       "       [ 0.7658042 , -0.70394227,  0.27206024],\n",
       "       [-1.3119311 ,  0.03317833,  0.61972917],\n",
       "       [ 0.        ,  0.        ,  0.        ],\n",
       "       [ 0.92734982,  0.56016299,  0.363789  ],\n",
       "       [ 0.1338034 , -0.39399311,  0.68843431],\n",
       "       [-1.01583844,  0.62269008,  0.36978758],\n",
       "       [ 1.60042522, -0.11975232,  0.44741576],\n",
       "       [ 0.07987979, -0.77985352, -0.15838048],\n",
       "       [-1.93449332,  0.08718178,  0.22905962],\n",
       "       [ 0.48334784,  0.51174112,  0.55408028],\n",
       "       [ 1.36582106, -0.56460436,  0.24382229],\n",
       "       [-0.82539562, -0.13084225,  0.71830477],\n",
       "       [ 1.74334549,  0.12578485,  0.31284919],\n",
       "       [ 0.        ,  0.        ,  0.        ]])"
      ]
     },
     "execution_count": 12,
     "metadata": {},
     "output_type": "execute_result"
    }
   ],
   "source": [
    "bvec_scanner-bvec_1234"
   ]
  },
  {
   "cell_type": "code",
   "execution_count": 13,
   "metadata": {},
   "outputs": [],
   "source": [
    "def angle_between(v1, v2):\n",
    "    # assumes norm=1\n",
    "    # in radians\n",
    "    return np.arccos(np.clip(np.dot(v1, v2), -1.0, 1.0))\n",
    "\n",
    "def rad2deg(rad):\n",
    "    return (180/np.pi)*rad"
   ]
  },
  {
   "cell_type": "code",
   "execution_count": 14,
   "metadata": {},
   "outputs": [],
   "source": [
    "scaled_aff = aff[:3,:3]/3\n",
    "invaff = np.linalg.inv(scaled_aff)"
   ]
  },
  {
   "cell_type": "code",
   "execution_count": 16,
   "metadata": {},
   "outputs": [
    {
     "name": "stdout",
     "output_type": "stream",
     "text": [
      "[90.0, 47.293363446829034, 161.0805934385915, 53.164127151694316, 55.3247988800458, 48.17659389151682, 74.10240410840845, 121.78985991002146, 53.48457135734264, 62.81141824914293, 101.17076824246855, 90.0, 89.57454617702061, 64.20413943915317, 119.13944565234877, 79.65462415142063, 105.5135556259937, 48.10266624257237, 48.81888439270967, 146.50698050782808, 48.6224063645092, 59.928282261386265, 90.0, 83.69143911997354, 72.05312191256539, 131.89412616030316, 55.72659209933174, 99.75613053863799, 97.31501022718278, 51.717144515545435, 81.32166021040086, 70.71780941999852, 122.07407739610656, 90.0, 47.9860335844829, 157.82797936893917, 57.50363223813563, 95.35519316856848, 66.92187018847774, 69.89573676140735, 93.44306499471907, 87.58847999443255, 125.21624911970659, 52.29691487727217, 90.0, 81.77862563633852, 49.14725977690871, 137.54992456218673, 46.87176905267145, 107.14920510496098, 53.61840894353593, 65.47436588051264, 125.16124639690831, 65.03753283179108, 93.04556805370724, 90.0, 69.69380666978931, 47.425749413917096, 77.18513545038984, 112.82080728847038, 47.147297950500665, 154.31607522882624, 53.218050297317966, 96.99657015731631, 66.86568615452867, 125.1963664812993, 90.0]\n"
     ]
    }
   ],
   "source": [
    "transform = np.eye(3)\n",
    "# transform = scaled_aff\n",
    "# transform = scaled_aff.T\n",
    "# transform = invaff\n",
    "# transform = invaff.T\n",
    "\n",
    "dist_deg = []\n",
    "for i in range(bvec_scanner.shape[0]):\n",
    "    dist_deg.append(rad2deg(angle_between(bvec_1234[i,:], (transform.dot(bvec_scanner[i,:])))))\n",
    "print(dist_deg)"
   ]
  },
  {
   "cell_type": "code",
   "execution_count": 17,
   "metadata": {},
   "outputs": [
    {
     "ename": "ImportError",
     "evalue": "No module named 'vtk.util'",
     "output_type": "error",
     "traceback": [
      "\u001b[0;31m---------------------------------------------------------------------------\u001b[0m",
      "\u001b[0;31mImportError\u001b[0m                               Traceback (most recent call last)",
      "\u001b[0;32m<ipython-input-17-fb7f1655182e>\u001b[0m in \u001b[0;36m<module>\u001b[0;34m\u001b[0m\n\u001b[0;32m----> 1\u001b[0;31m \u001b[0;32mfrom\u001b[0m \u001b[0mdipy\u001b[0m\u001b[0;34m.\u001b[0m\u001b[0mviz\u001b[0m \u001b[0;32mimport\u001b[0m \u001b[0mwindow\u001b[0m\u001b[0;34m,\u001b[0m \u001b[0mactor\u001b[0m\u001b[0;34m\u001b[0m\u001b[0m\n\u001b[0m\u001b[1;32m      2\u001b[0m \u001b[0mren\u001b[0m \u001b[0;34m=\u001b[0m \u001b[0mwindow\u001b[0m\u001b[0;34m.\u001b[0m\u001b[0mScene\u001b[0m\u001b[0;34m(\u001b[0m\u001b[0;34m)\u001b[0m\u001b[0;34m\u001b[0m\u001b[0m\n\u001b[1;32m      3\u001b[0m \u001b[0mren\u001b[0m\u001b[0;34m.\u001b[0m\u001b[0mSetBackground\u001b[0m\u001b[0;34m(\u001b[0m\u001b[0;36m1\u001b[0m\u001b[0;34m,\u001b[0m \u001b[0;36m1\u001b[0m\u001b[0;34m,\u001b[0m \u001b[0;36m1\u001b[0m\u001b[0;34m)\u001b[0m\u001b[0;34m\u001b[0m\u001b[0m\n\u001b[1;32m      4\u001b[0m \u001b[0;31m# ren.add(actor.point(bvec_scanner, window.colors.green, point_radius=0.05))\u001b[0m\u001b[0;34m\u001b[0m\u001b[0;34m\u001b[0m\u001b[0m\n\u001b[1;32m      5\u001b[0m \u001b[0;31m# ren.add(actor.point(bvec_1234   , window.colors.red,   point_radius=0.05))\u001b[0m\u001b[0;34m\u001b[0m\u001b[0;34m\u001b[0m\u001b[0m\n",
      "\u001b[0;32m~/.local/lib/python3.5/site-packages/dipy/viz/__init__.py\u001b[0m in \u001b[0;36m<module>\u001b[0;34m\u001b[0m\n\u001b[1;32m     13\u001b[0m \u001b[0;34m\u001b[0m\u001b[0m\n\u001b[1;32m     14\u001b[0m \u001b[0;32mif\u001b[0m \u001b[0mhas_fury\u001b[0m\u001b[0;34m:\u001b[0m\u001b[0;34m\u001b[0m\u001b[0m\n\u001b[0;32m---> 15\u001b[0;31m     \u001b[0;32mfrom\u001b[0m \u001b[0mfury\u001b[0m \u001b[0;32mimport\u001b[0m \u001b[0mactor\u001b[0m\u001b[0;34m,\u001b[0m \u001b[0mwindow\u001b[0m\u001b[0;34m,\u001b[0m \u001b[0mcolormap\u001b[0m\u001b[0;34m,\u001b[0m \u001b[0minteractor\u001b[0m\u001b[0;34m,\u001b[0m \u001b[0mui\u001b[0m\u001b[0;34m,\u001b[0m \u001b[0mutils\u001b[0m\u001b[0;34m\u001b[0m\u001b[0m\n\u001b[0m\u001b[1;32m     16\u001b[0m     \u001b[0;32mfrom\u001b[0m \u001b[0mfury\u001b[0m\u001b[0;34m.\u001b[0m\u001b[0mwindow\u001b[0m \u001b[0;32mimport\u001b[0m \u001b[0mvtk\u001b[0m\u001b[0;34m\u001b[0m\u001b[0m\n\u001b[1;32m     17\u001b[0m     from fury.data import (fetch_viz_icons, read_viz_icons,\n",
      "\u001b[0;32m~/.local/lib/python3.5/site-packages/fury/actor.py\u001b[0m in \u001b[0;36m<module>\u001b[0;34m\u001b[0m\n\u001b[1;32m      4\u001b[0m \u001b[0;32mimport\u001b[0m \u001b[0mnumpy\u001b[0m \u001b[0;32mas\u001b[0m \u001b[0mnp\u001b[0m\u001b[0;34m\u001b[0m\u001b[0m\n\u001b[1;32m      5\u001b[0m \u001b[0;32mimport\u001b[0m \u001b[0mvtk\u001b[0m\u001b[0;34m\u001b[0m\u001b[0m\n\u001b[0;32m----> 6\u001b[0;31m \u001b[0;32mfrom\u001b[0m \u001b[0mvtk\u001b[0m\u001b[0;34m.\u001b[0m\u001b[0mutil\u001b[0m \u001b[0;32mimport\u001b[0m \u001b[0mnumpy_support\u001b[0m\u001b[0;34m\u001b[0m\u001b[0m\n\u001b[0m\u001b[1;32m      7\u001b[0m \u001b[0;34m\u001b[0m\u001b[0m\n\u001b[1;32m      8\u001b[0m \u001b[0;32mimport\u001b[0m \u001b[0mfury\u001b[0m\u001b[0;34m.\u001b[0m\u001b[0mshaders\u001b[0m \u001b[0;32mas\u001b[0m \u001b[0mfs\u001b[0m\u001b[0;34m\u001b[0m\u001b[0m\n",
      "\u001b[0;31mImportError\u001b[0m: No module named 'vtk.util'"
     ]
    }
   ],
   "source": [
    "from dipy.viz import window, actor\n",
    "ren = window.Scene()\n",
    "ren.SetBackground(1, 1, 1)\n",
    "# ren.add(actor.point(bvec_scanner, window.colors.green, point_radius=0.05))\n",
    "# ren.add(actor.point(bvec_1234   , window.colors.red,   point_radius=0.05))\n",
    "ren.add(actor.point(bvec_scanner.dot(scaled_aff), window.colors.blue,   point_radius=0.05))\n",
    "# ren.add(actor.point(bvec_scanner.dot(scaled_aff.T), window.colors.blue,   point_radius=0.05))\n",
    "ren.add(actor.point(bvec_scanner.dot(invaff), window.colors.red,   point_radius=0.05))\n",
    "# ren.add(actor.point(bvec_scanner.dot(invaff.T), window.colors.blue,   point_radius=0.05))\n",
    "window.show(ren)"
   ]
  },
  {
   "cell_type": "code",
   "execution_count": 17,
   "metadata": {},
   "outputs": [
    {
     "data": {
      "image/png": "[encoded data removed]",
      "text/plain": [
       "<Figure size 432x288 with 1 Axes>"
      ]
     },
     "metadata": {
      "needs_background": "light"
     },
     "output_type": "display_data"
    }
   ],
   "source": [
    "from mpl_toolkits.mplot3d import Axes3D \n",
    "\n",
    "\n",
    "fig = pl.figure()\n",
    "ax = fig.gca(projection='3d')\n",
    "\n",
    "bvec0 = bvec_scanner\n",
    "bvec1 = bvec_scanner.dot(scaled_aff)\n",
    "\n",
    "\n",
    "x = bvec0[:, 0]\n",
    "y = bvec0[:, 1]\n",
    "z = bvec0[:, 2]\n",
    "\n",
    "u = bvec1[:, 0] - bvec0[:, 0]\n",
    "v = bvec1[:, 1] - bvec0[:, 1]\n",
    "w = bvec1[:, 2] - bvec0[:, 2]\n",
    "\n",
    "\n",
    "ax.quiver(x, y, z, u, v, w)\n",
    "pl.show()"
   ]
  },
  {
   "cell_type": "code",
   "execution_count": 21,
   "metadata": {
    "scrolled": true
   },
   "outputs": [
    {
     "name": "stdout",
     "output_type": "stream",
     "text": [
      "5614.465746719068\n",
      "6445.534253280932\n",
      "4565.202525537836\n",
      "4578.941664153441\n",
      "9227.861326917653\n",
      "7494.797474462164\n",
      "7481.05833584656\n",
      "2832.138673082346\n",
      "7483.971384261622\n",
      "4576.028615738379\n",
      "4603.711707027462\n",
      "4902.412820245906\n",
      "7497.795034134662\n",
      "7456.288292972538\n",
      "7157.587179754095\n",
      "4562.204965865339\n",
      "7498.288372335544\n",
      "4561.711627664456\n",
      "4613.92612068661\n",
      "4921.281464464546\n",
      "7420.0049012274985\n",
      "7446.07387931339\n",
      "7138.718535535455\n",
      "4639.995098772503\n",
      "7498.288400180659\n",
      "4561.711599819342\n",
      "4613.926123581512\n",
      "4921.281469872166\n",
      "7420.004867137106\n",
      "7446.073876418488\n",
      "7138.718530127834\n",
      "4639.995132862895\n",
      "7483.971280506069\n",
      "4576.028719493932\n",
      "4603.711710350587\n",
      "4902.412824306932\n",
      "7497.795143523694\n",
      "7456.288289649413\n",
      "7157.587175693068\n",
      "4562.204856476306\n"
     ]
    }
   ],
   "source": [
    "transforms = [np.eye(3), scaled_aff, scaled_aff.T, invaff, invaff.T]\n",
    "flips = [np.array([1,1,1]), np.array([-1,-1,-1]), np.array([-1,-1,1]), np.array([-1,1,-1]), np.array([1,-1,-1]), np.array([1,1,-1]), np.array([1,-1,1]), np.array([-1,1,1])]\n",
    "\n",
    "for i_t in range(len(transforms)):\n",
    "    for i_f in range(len(flips)):\n",
    "        dist_deg = []\n",
    "        for i in range(bvec_scanner.shape[0]):\n",
    "            dist_deg.append(rad2deg(angle_between(bvec_1234[i,:], (flips[i_f]*transforms[i_t].dot(bvec_scanner[i,:])))))\n",
    "        print(np.array(dist_deg).sum())"
   ]
  },
  {
   "cell_type": "code",
   "execution_count": 23,
   "metadata": {},
   "outputs": [],
   "source": [
    "def func(x):\n",
    "    # current estimated transform matrix\n",
    "    trans = x.reshape((3,3))\n",
    "    # estimated bvec from transforming bvec-scanner\n",
    "    est_bvec = bvec_scanner.dot(trans)\n",
    "    # difference with mrconvert bvec -stride 1234\n",
    "    diff = bvec_1234 - est_bvec\n",
    "    # return l2 error\n",
    "    return np.linalg.norm(diff)"
   ]
  },
  {
   "cell_type": "code",
   "execution_count": null,
   "metadata": {},
   "outputs": [],
   "source": []
  },
  {
   "cell_type": "code",
   "execution_count": 30,
   "metadata": {},
   "outputs": [
    {
     "name": "stdout",
     "output_type": "stream",
     "text": [
      "Warning: Maximum number of function evaluations has been exceeded.\n"
     ]
    }
   ],
   "source": [
    "from scipy.optimize import fmin\n",
    "\n",
    "x0 = np.array([1,0,0,0,1,0,0,0,1])\n",
    "results = fmin(func, x0, args=(), xtol=0.0001, ftol=0.0001, maxiter=None, maxfun=None)"
   ]
  },
  {
   "cell_type": "code",
   "execution_count": 31,
   "metadata": {},
   "outputs": [
    {
     "data": {
      "text/plain": [
       "array([-0.99610494, -0.00870559,  0.18096165,  0.05773608,  0.68101489,\n",
       "        0.71618533, -0.00744693, -0.7113459 ,  0.68407106])"
      ]
     },
     "execution_count": 31,
     "metadata": {},
     "output_type": "execute_result"
    }
   ],
   "source": [
    "results"
   ]
  },
  {
   "cell_type": "code",
   "execution_count": 33,
   "metadata": {},
   "outputs": [
    {
     "data": {
      "text/plain": [
       "0.6301712939823163"
      ]
     },
     "execution_count": 33,
     "metadata": {},
     "output_type": "execute_result"
    }
   ],
   "source": [
    "func(results)"
   ]
  },
  {
   "cell_type": "code",
   "execution_count": 34,
   "metadata": {},
   "outputs": [],
   "source": [
    "trans = results.reshape((3,3))\n",
    "est_bvec = bvec_scanner.dot(trans)\n",
    "diff = bvec_1234 - est_bvec"
   ]
  },
  {
   "cell_type": "code",
   "execution_count": 45,
   "metadata": {},
   "outputs": [],
   "source": [
    "idx_non_zero = np.linalg.norm(bvec_scanner, axis=1)>0.1\n",
    "est_bvec_n0 = est_bvec[idx_non_zero]\n",
    "bvec_scanner_n0 = bvec_scanner[idx_non_zero]\n",
    "bvec_1234_n0 = bvec_1234[idx_non_zero]\n",
    "\n",
    "est_bvec_norm = est_bvec_n0 / np.linalg.norm(est_bvec_n0, axis=1)[:,None]"
   ]
  },
  {
   "cell_type": "code",
   "execution_count": 46,
   "metadata": {
    "collapsed": true
   },
   "outputs": [
    {
     "data": {
      "text/plain": [
       "array([[-0.0565311 , -0.01020609, -0.9866001 ],\n",
       "       [-0.98583974, -0.15145363,  0.25934851],\n",
       "       [ 0.19744822, -0.75702523,  0.55649575],\n",
       "       [ 0.25010669, -0.55823941, -0.81175755],\n",
       "       [-0.129822  , -0.77254661,  0.62492974],\n",
       "       [-0.49574144, -0.31227702, -0.74529182],\n",
       "       [ 0.83738632, -0.35764785, -0.48084475],\n",
       "       [-0.21575095,  0.27519468, -0.89502334],\n",
       "       [-0.3914012 , -0.90458644, -0.14641468],\n",
       "       [-0.70378325,  0.41839906, -0.42894618],\n",
       "       [ 0.65142866,  0.4893121 , -0.68865396],\n",
       "       [-0.39623212, -0.59934273, -0.64926797],\n",
       "       [ 0.81618158, -0.51930867, -0.1778062 ],\n",
       "       [-0.56395802, -0.72799622, -0.34313899],\n",
       "       [ 0.74922525, -0.16956136, -0.73275677],\n",
       "       [ 0.06859229, -0.92267525,  0.31061817],\n",
       "       [ 0.12250888, -0.3035756 , -0.95764059],\n",
       "       [-0.95373299, -0.28948956, -0.02961114],\n",
       "       [ 0.13627392,  0.30006663, -0.95892175],\n",
       "       [ 0.30501844, -0.87903978, -0.32859165],\n",
       "       [-0.5702345 ,  0.22766799, -0.69028613],\n",
       "       [-0.49745786, -0.8681175 ,  0.20455245],\n",
       "       [ 0.88078468, -0.35065408,  0.10778198],\n",
       "       [ 0.27531025,  0.00624015, -0.99751802],\n",
       "       [ 0.68897515, -0.63758062,  0.12416957],\n",
       "       [-0.71338926, -0.66328649,  0.38894799],\n",
       "       [-0.19880349, -0.32538596, -0.89648328],\n",
       "       [ 0.53741471, -0.79892338, -0.12301194],\n",
       "       [ 0.47286651,  0.30449436, -0.89675751],\n",
       "       [-0.83946999,  0.1244451 , -0.38780323],\n",
       "       [ 0.0752565 , -0.80367887, -0.5803724 ],\n",
       "       [-0.97227456,  0.03045158, -0.06676517],\n",
       "       [ 0.31783481,  0.56287525, -0.80743078],\n",
       "       [-0.68627327, -0.45164578, -0.49240106],\n",
       "       [ 0.38821912, -0.84968077,  0.19165511],\n",
       "       [ 0.44635825, -0.28972157, -0.89941828],\n",
       "       [-0.68411666, -0.74786007,  0.0109419 ],\n",
       "       [ 0.60635074, -0.46770191, -0.69918252],\n",
       "       [-0.86541148, -0.20908528, -0.34397215],\n",
       "       [ 0.17859115, -0.9579357 , -0.02466784],\n",
       "       [ 0.57188516,  0.01156472, -0.89906145],\n",
       "       [-0.16250687, -0.9784673 ,  0.05014336],\n",
       "       [ 0.91863901, -0.0107813 , -0.51739388],\n",
       "       [-0.04158994, -0.94637698, -0.27689245],\n",
       "       [ 0.77035083,  0.18839087, -0.72564809],\n",
       "       [-0.25220769, -0.82087776, -0.4797998 ],\n",
       "       [-0.37903164,  0.49887537, -0.69810397],\n",
       "       [-0.87527069, -0.36311598,  0.47964201],\n",
       "       [-0.38757707, -0.01339209, -0.86201483],\n",
       "       [ 0.64262037, -0.65175113, -0.41069311],\n",
       "       [-0.47155265, -0.73502715,  0.56685861],\n",
       "       [-0.08064664, -0.60364444, -0.77875169],\n",
       "       [ 0.49904331, -0.66634135,  0.42395416],\n",
       "       [-0.80889975, -0.5393441 , -0.18317067],\n",
       "       [-0.03582552,  0.5532136 , -0.81221486],\n",
       "       [ 0.96181496, -0.19707052, -0.2236736 ],\n",
       "       [-0.2536852 , -0.90403056,  0.36857455],\n",
       "       [-0.68712385, -0.08029593, -0.62211877],\n",
       "       [ 0.39788704, -0.71177071, -0.59534079],\n",
       "       [-0.87777249, -0.51134096,  0.18093186]])"
      ]
     },
     "execution_count": 46,
     "metadata": {},
     "output_type": "execute_result"
    }
   ],
   "source": [
    "est_bvec_n0"
   ]
  },
  {
   "cell_type": "code",
   "execution_count": 48,
   "metadata": {},
   "outputs": [
    {
     "name": "stdout",
     "output_type": "stream",
     "text": [
      "[1.5932233546588186, 7.385580976204794, 0.2182835946701278, 2.2074691940745885, 1.0416315625606958, 3.312722667531101, 6.234558962135192, 1.221348141237812, 3.126734119512268, 4.304878198374852, 2.604168969486434, 3.119774559687946, 6.5618021642237405, 4.495986215800002, 4.407560075952531, 0.3736093275309443, 1.5977410720567042, 7.51074975929857, 1.1253222600511947, 2.8208982944503824, 2.5877577439434516, 3.4471019850737616, 6.799882615919353, 1.0492203273702216, 5.030907923094099, 4.416344613455192, 2.000444780708723, 4.314449069019367, 0.5810342919486502, 5.986903749588195, 1.6900706954783822, 7.758537078838908, 0.9157567685147843, 5.234116958802542, 2.461473228209551, 2.4091795192783567, 5.148641067994007, 4.258874608511764, 6.6402266410270325, 1.531750867849283, 2.021190156185829, 1.4469274732119106, 6.131710097342235, 1.1811546037968501, 3.6704707919604207, 2.2993511455367215, 0.8707114326345948, 5.438815613472345, 2.0313004685687077, 5.2456357144728845, 2.2883031211838674, 1.7326873587603326, 2.4761369879675983, 6.421096059925995, 0.9544097217917554, 7.534824069601274, 1.7389514853205865, 4.3649402631631204, 3.4067927176545076, 6.39455818493036]\n"
     ]
    }
   ],
   "source": [
    "dist_deg = []\n",
    "for i in range(est_bvec_norm.shape[0]):\n",
    "    dist_deg.append(rad2deg(angle_between(bvec_1234_n0[i,:], (est_bvec_norm[i,:]))))\n",
    "print(dist_deg)"
   ]
  },
  {
   "cell_type": "code",
   "execution_count": 56,
   "metadata": {},
   "outputs": [],
   "source": [
    "ren = window.Scene()\n",
    "ren.SetBackground(1, 1, 1)\n",
    "# ren.add(actor.point(bvec_scanner, window.colors.green, point_radius=0.05))\n",
    "ren.add(actor.point(bvec_1234   , window.colors.red,   point_radius=0.05))\n",
    "# ren.add(actor.point(bvec_scanner.dot(scaled_aff), window.colors.blue,   point_radius=0.05))\n",
    "# ren.add(actor.point(bvec_scanner.dot(scaled_aff.T), window.colors.blue,   point_radius=0.05))\n",
    "ren.add(actor.point(est_bvec_norm, window.colors.blue,   point_radius=0.05))\n",
    "# ren.add(actor.point(bvec_scanner.dot(invaff.T), window.colors.blue,   point_radius=0.05))\n",
    "window.show(ren)"
   ]
  },
  {
   "cell_type": "code",
   "execution_count": 38,
   "metadata": {
    "scrolled": true
   },
   "outputs": [
    {
     "data": {
      "text/plain": [
       "array([0.        , 0.98827106, 1.03057258, 0.9600836 , 1.01643244,\n",
       "       1.00210737, 0.9480171 , 1.02972787, 0.96090965, 0.99644809,\n",
       "       0.92431783, 0.        , 1.06678484, 0.96838035, 0.9835898 ,\n",
       "       0.98273675, 1.06161293, 0.97597037, 1.01204845, 0.99713973,\n",
       "       1.01397312, 0.98677235, 0.        , 0.92384796, 1.02124142,\n",
       "       0.95412625, 1.03483181, 0.94689697, 1.04888214, 0.97420794,\n",
       "       0.97068279, 1.0585337 , 0.93305294, 0.        , 0.99418076,\n",
       "       0.97503985, 1.03430748, 0.95781717, 0.95362634, 1.04504905,\n",
       "       1.01362222, 1.03694864, 0.95444776, 0.97475336, 0.        ,\n",
       "       1.06559742, 0.993137  , 1.05437673, 0.98692885, 1.07494031,\n",
       "       0.98369551, 0.93802493, 1.06207742, 0.94523272, 1.00319953,\n",
       "       0.        , 1.04113183, 0.98860745, 0.93423346, 0.9893242 ,\n",
       "       0.98337263, 1.00695317, 1.00869947, 0.93038615, 1.00963473,\n",
       "       1.03183839, 0.        ])"
      ]
     },
     "execution_count": 38,
     "metadata": {},
     "output_type": "execute_result"
    }
   ],
   "source": [
    "np.linalg.norm(est_bvec, axis=1)"
   ]
  },
  {
   "cell_type": "code",
   "execution_count": 35,
   "metadata": {
    "scrolled": true
   },
   "outputs": [
    {
     "name": "stdout",
     "output_type": "stream",
     "text": [
      "[[ 0.          0.          0.        ]\n",
      " [-0.0252583   0.0127544  -0.01004623]\n",
      " [-0.00026148  0.06426215 -0.11792014]\n",
      " [ 0.0045302  -0.03182887  0.02394696]\n",
      " [-0.02754664 -0.01870564  0.02588135]\n",
      " [ 0.00396686 -0.00981933 -0.01495898]\n",
      " [-0.02516293  0.036437   -0.06252676]\n",
      " [-0.01398234 -0.05975784  0.09642497]\n",
      " [-0.01940003  0.0278836  -0.02847411]\n",
      " [-0.01835687  0.01368968 -0.04954769]\n",
      " [-0.0080311   0.05995755 -0.08534474]\n",
      " [ 0.          0.          0.        ]\n",
      " [-0.00829926 -0.03140918  0.07488739]\n",
      " [-0.02631964  0.02397495 -0.05101928]\n",
      " [-0.00823388 -0.06406743  0.09478218]\n",
      " [-0.02186797  0.03084079 -0.07011896]\n",
      " [-0.01837517 -0.0484419   0.08597043]\n",
      " [-0.00473035 -0.02348648  0.00671415]\n",
      " [-0.02810729 -0.00457478  0.01099837]\n",
      " [-0.00911837  0.06151566 -0.1151135 ]\n",
      " [-0.01993694  0.00356982  0.01326305]\n",
      " [-0.01952483 -0.03273745  0.03337008]\n",
      " [ 0.          0.          0.        ]\n",
      " [-0.01681774  0.04956256 -0.07031424]\n",
      " [-0.00974062  0.01833535 -0.06095561]\n",
      " [ 0.00203383 -0.0686052   0.10400376]\n",
      " [-0.02416233 -0.01008104  0.02957694]\n",
      " [-0.00265804 -0.06035649  0.08040945]\n",
      " [-0.00296487  0.03472922 -0.08604132]\n",
      " [-0.0287081   0.01702746 -0.02717991]\n",
      " [-0.01181031 -0.04956849  0.06135508]\n",
      " [-0.01719852 -0.0197201   0.05338908]\n",
      " [-0.01175228  0.06443258 -0.10183528]\n",
      " [ 0.          0.          0.        ]\n",
      " [-0.02649553 -0.01297655  0.00531061]\n",
      " [-0.00565755  0.06897783 -0.11698098]\n",
      " [-0.01171467 -0.00545611  0.03569613]\n",
      " [-0.0220224   0.04545796 -0.0849452 ]\n",
      " [-0.00482836 -0.04304405  0.04510195]\n",
      " [-0.02580625 -0.02763935  0.04946648]\n",
      " [-0.01337113  0.034942   -0.08345873]\n",
      " [-0.02216508 -0.04338346  0.0686915 ]\n",
      " [-0.01546309  0.05976688 -0.10520931]\n",
      " [-0.01360863 -0.02834183  0.01857994]\n",
      " [ 0.          0.          0.        ]\n",
      " [-0.02078825 -0.03147117  0.06485758]\n",
      " [-0.01347926 -0.00551266 -0.02164179]\n",
      " [-0.00964811 -0.05972964  0.10658515]\n",
      " [-0.02041866 -0.01001366 -0.00854007]\n",
      " [-0.01278132 -0.04387776  0.0890915 ]\n",
      " [-0.02515916  0.00887385 -0.03373416]\n",
      " [-0.01221279  0.04103313 -0.04716546]\n",
      " [ 0.0028089   0.05001423 -0.10443832]\n",
      " [-0.02392713  0.03463436 -0.04914541]\n",
      " [-0.01678927 -0.0517272   0.07386394]\n",
      " [ 0.          0.          0.        ]\n",
      " [ 0.00180283  0.01516415 -0.05584761]\n",
      " [-0.02905676  0.00323755 -0.01338262]\n",
      " [ 0.00399513 -0.04994873  0.05965826]\n",
      " [-0.01602547  0.04959642 -0.09904509]\n",
      " [-0.01285426  0.01833993 -0.00690466]\n",
      " [-0.00412164 -0.06851127  0.11281398]\n",
      " [-0.00446264 -0.00131056 -0.03135483]\n",
      " [-0.01979721  0.05190029 -0.08460352]\n",
      " [-0.02399142 -0.03398705  0.04393602]\n",
      " [-0.006673    0.0507561  -0.10598105]\n",
      " [ 0.          0.          0.        ]]\n"
     ]
    }
   ],
   "source": [
    "print(diff)"
   ]
  },
  {
   "cell_type": "code",
   "execution_count": 19,
   "metadata": {},
   "outputs": [],
   "source": [
    "from scipy.spatial.transform import Rotation as R\n",
    "\n",
    "def func(x):\n",
    "    # current estimated transform matrix\n",
    "    trans = R.from_rotvec((x[0]) * x[1:]/np.linalg.norm(x[1:])).as_matrix()\n",
    "    # estimated bvec from transforming bvec-scanner\n",
    "    est_bvec = trans.dot(bvec_scanner.T).T\n",
    "    # difference with mrconvert bvec -stride 1234\n",
    "    diff = bvec_1234 - est_bvec\n",
    "    # return l2 error\n",
    "    return np.linalg.norm(diff)"
   ]
  },
  {
   "cell_type": "code",
   "execution_count": 20,
   "metadata": {},
   "outputs": [
    {
     "ename": "NameError",
     "evalue": "name 'fmin' is not defined",
     "output_type": "error",
     "traceback": [
      "\u001b[0;31m---------------------------------------------------------------------------\u001b[0m",
      "\u001b[0;31mNameError\u001b[0m                                 Traceback (most recent call last)",
      "\u001b[0;32m<ipython-input-20-7d8cc5b63ad1>\u001b[0m in \u001b[0;36m<module>\u001b[0;34m\u001b[0m\n\u001b[1;32m      1\u001b[0m \u001b[0mx0\u001b[0m \u001b[0;34m=\u001b[0m \u001b[0mnp\u001b[0m\u001b[0;34m.\u001b[0m\u001b[0marray\u001b[0m\u001b[0;34m(\u001b[0m\u001b[0;34m[\u001b[0m\u001b[0;36m0\u001b[0m\u001b[0;34m,\u001b[0m \u001b[0;36m1\u001b[0m\u001b[0;34m,\u001b[0m \u001b[0;36m1\u001b[0m\u001b[0;34m,\u001b[0m \u001b[0;36m1\u001b[0m\u001b[0;34m]\u001b[0m\u001b[0;34m)\u001b[0m\u001b[0;34m\u001b[0m\u001b[0m\n\u001b[0;32m----> 2\u001b[0;31m \u001b[0mresults\u001b[0m \u001b[0;34m=\u001b[0m \u001b[0mfmin\u001b[0m\u001b[0;34m(\u001b[0m\u001b[0mfunc\u001b[0m\u001b[0;34m,\u001b[0m \u001b[0mx0\u001b[0m\u001b[0;34m,\u001b[0m \u001b[0margs\u001b[0m\u001b[0;34m=\u001b[0m\u001b[0;34m(\u001b[0m\u001b[0;34m)\u001b[0m\u001b[0;34m,\u001b[0m \u001b[0mxtol\u001b[0m\u001b[0;34m=\u001b[0m\u001b[0;36m0.0001\u001b[0m\u001b[0;34m,\u001b[0m \u001b[0mftol\u001b[0m\u001b[0;34m=\u001b[0m\u001b[0;36m0.0001\u001b[0m\u001b[0;34m,\u001b[0m \u001b[0mmaxiter\u001b[0m\u001b[0;34m=\u001b[0m\u001b[0;32mNone\u001b[0m\u001b[0;34m,\u001b[0m \u001b[0mmaxfun\u001b[0m\u001b[0;34m=\u001b[0m\u001b[0;32mNone\u001b[0m\u001b[0;34m)\u001b[0m\u001b[0;34m\u001b[0m\u001b[0m\n\u001b[0m",
      "\u001b[0;31mNameError\u001b[0m: name 'fmin' is not defined"
     ]
    }
   ],
   "source": [
    "x0 = np.array([0, 1, 1, 1])\n",
    "results = fmin(func, x0, args=(), xtol=0.0001, ftol=0.0001, maxiter=None, maxfun=None)"
   ]
  },
  {
   "cell_type": "code",
   "execution_count": 21,
   "metadata": {},
   "outputs": [
    {
     "ename": "NameError",
     "evalue": "name 'results' is not defined",
     "output_type": "error",
     "traceback": [
      "\u001b[0;31m---------------------------------------------------------------------------\u001b[0m",
      "\u001b[0;31mNameError\u001b[0m                                 Traceback (most recent call last)",
      "\u001b[0;32m<ipython-input-21-7aa22f94d3b3>\u001b[0m in \u001b[0;36m<module>\u001b[0;34m\u001b[0m\n\u001b[0;32m----> 1\u001b[0;31m \u001b[0mtrans\u001b[0m \u001b[0;34m=\u001b[0m \u001b[0mR\u001b[0m\u001b[0;34m.\u001b[0m\u001b[0mfrom_rotvec\u001b[0m\u001b[0;34m(\u001b[0m\u001b[0;34m(\u001b[0m\u001b[0mresults\u001b[0m\u001b[0;34m[\u001b[0m\u001b[0;36m0\u001b[0m\u001b[0;34m]\u001b[0m\u001b[0;34m)\u001b[0m \u001b[0;34m*\u001b[0m \u001b[0mresults\u001b[0m\u001b[0;34m[\u001b[0m\u001b[0;36m1\u001b[0m\u001b[0;34m:\u001b[0m\u001b[0;34m]\u001b[0m\u001b[0;34m/\u001b[0m\u001b[0mnp\u001b[0m\u001b[0;34m.\u001b[0m\u001b[0mlinalg\u001b[0m\u001b[0;34m.\u001b[0m\u001b[0mnorm\u001b[0m\u001b[0;34m(\u001b[0m\u001b[0mresults\u001b[0m\u001b[0;34m[\u001b[0m\u001b[0;36m1\u001b[0m\u001b[0;34m:\u001b[0m\u001b[0;34m]\u001b[0m\u001b[0;34m)\u001b[0m\u001b[0;34m)\u001b[0m\u001b[0;34m.\u001b[0m\u001b[0mas_matrix\u001b[0m\u001b[0;34m(\u001b[0m\u001b[0;34m)\u001b[0m\u001b[0;34m\u001b[0m\u001b[0m\n\u001b[0m",
      "\u001b[0;31mNameError\u001b[0m: name 'results' is not defined"
     ]
    }
   ],
   "source": [
    "trans = R.from_rotvec((results[0]) * results[1:]/np.linalg.norm(results[1:])).as_matrix()"
   ]
  },
  {
   "cell_type": "code",
   "execution_count": null,
   "metadata": {},
   "outputs": [],
   "source": [
    "est_bvec = trans.dot(bvec_scanner.T).T"
   ]
  },
  {
   "cell_type": "code",
   "execution_count": null,
   "metadata": {},
   "outputs": [],
   "source": [
    "np.linalg.norm(est_bvec, axis=1)"
   ]
  },
  {
   "cell_type": "code",
   "execution_count": null,
   "metadata": {},
   "outputs": [],
   "source": [
    "dist_deg = []\n",
    "for i in range(est_bvec.shape[0]):\n",
    "    dist_deg.append(rad2deg(angle_between(bvec_1234[i,:], (est_bvec[i,:]))))\n",
    "print(dist_deg)"
   ]
  },
  {
   "cell_type": "code",
   "execution_count": null,
   "metadata": {},
   "outputs": [],
   "source": [
    "from dipy.viz import window, actor\n",
    "ren = window.Scene()\n",
    "ren.SetBackground(1, 1, 1)\n",
    "ren.add(actor.point(bvec_1234, window.colors.green, point_radius=0.05))\n",
    "ren.add(actor.point(est_bvec   , window.colors.red,   point_radius=0.05))\n",
    "window.show(ren)"
   ]
  },
  {
   "cell_type": "code",
   "execution_count": null,
   "metadata": {},
   "outputs": [],
   "source": []
  },
  {
   "cell_type": "code",
   "execution_count": null,
   "metadata": {},
   "outputs": [],
   "source": []
  },
  {
   "cell_type": "code",
   "execution_count": null,
   "metadata": {},
   "outputs": [],
   "source": []
  },
  {
   "cell_type": "code",
   "execution_count": null,
   "metadata": {},
   "outputs": [],
   "source": []
  },
  {
   "cell_type": "code",
   "execution_count": null,
   "metadata": {},
   "outputs": [],
   "source": []
  },
  {
   "cell_type": "code",
   "execution_count": null,
   "metadata": {},
   "outputs": [],
   "source": []
  }
 ],
 "metadata": {
  "kernelspec": {
   "display_name": "Python 3",
   "language": "python",
   "name": "python3"
  },
  "language_info": {
   "codemirror_mode": {
    "name": "ipython",
    "version": 3
   },
   "file_extension": ".py",
   "mimetype": "text/x-python",
   "name": "python",
   "nbconvert_exporter": "python",
   "pygments_lexer": "ipython3",
   "version": "3.5.2"
  }
 },
 "nbformat": 4,
 "nbformat_minor": 4
}
