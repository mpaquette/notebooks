{
 "cells": [
  {
   "cell_type": "code",
   "execution_count": 204,
   "metadata": {},
   "outputs": [],
   "source": [
    "import numpy as np\n",
    "import pylab as pl\n",
    "import scipy.stats as ss\n",
    "from time import time"
   ]
  },
  {
   "cell_type": "code",
   "execution_count": 152,
   "metadata": {},
   "outputs": [],
   "source": [
    "# \"Anatomy\" parameters\n",
    "N_bundle = 5 # number of bundle or connection in the matrix\n",
    "order_max_over_min = 3 # x/y assuming biggest bundle has 10^x tract and smallest non-zero 10^y tract"
   ]
  },
  {
   "cell_type": "code",
   "execution_count": 153,
   "metadata": {},
   "outputs": [],
   "source": [
    "def sample_anatomy(N_bundle, order_max_over_min):\n",
    "    orders = np.linspace(1, order_max_over_min, N_bundle, endpoint=True)\n",
    "    return 10**orders"
   ]
  },
  {
   "cell_type": "code",
   "execution_count": 154,
   "metadata": {},
   "outputs": [
    {
     "data": {
      "image/png": "[encoded data removed]",
      "text/plain": [
       "<Figure size 432x288 with 1 Axes>"
      ]
     },
     "metadata": {
      "needs_background": "light"
     },
     "output_type": "display_data"
    }
   ],
   "source": [
    "anatomy = sample_anatomy(N_bundle, order_max_over_min)\n",
    "pl.figure()\n",
    "pl.plot(anatomy)\n",
    "pl.show()"
   ]
  },
  {
   "cell_type": "code",
   "execution_count": 156,
   "metadata": {},
   "outputs": [],
   "source": [
    "# \"Tractography\" parameters\n",
    "N_tract = 10**6 # number of streamline\n",
    "noise_level = 0.01 # multiplicative noise: observe_tc = gt_tc*(1+noise*epsillon) where epsillon ~ N(0,1)"
   ]
  },
  {
   "cell_type": "code",
   "execution_count": 157,
   "metadata": {},
   "outputs": [],
   "source": [
    "# create the random variable with anatomy as prior\n",
    "def build_tractography_dist(anatomy):\n",
    "    return ss.rv_discrete(name='custm', values=(range(len(anatomy)), anatomy/np.sum(anatomy)))"
   ]
  },
  {
   "cell_type": "code",
   "execution_count": 158,
   "metadata": {},
   "outputs": [],
   "source": [
    "# samples from a bundle size distribution\n",
    "def sample_tractography(dist, N):\n",
    "    return dist.rvs(size=N)"
   ]
  },
  {
   "cell_type": "code",
   "execution_count": 159,
   "metadata": {},
   "outputs": [],
   "source": [
    "# get noiseless tract count\n",
    "def tractcount_from_sample(tracto, N):\n",
    "    tmp_tc, tmp_bins = np.histogram(tracto, bins=range(N+1))\n",
    "    return tmp_tc, tmp_bins[:-1]"
   ]
  },
  {
   "cell_type": "code",
   "execution_count": 160,
   "metadata": {},
   "outputs": [],
   "source": [
    "# one example\n",
    "tract_dist = build_tractography_dist(anatomy)\n",
    "tracto_gt = sample_tractography(tract_dist, N_tract)\n",
    "tc_gt, bundle_number = tractcount_from_sample(tracto_gt, len(anatomy)) # or N_bundle"
   ]
  },
  {
   "cell_type": "code",
   "execution_count": 161,
   "metadata": {},
   "outputs": [
    {
     "data": {
      "image/png": "[encoded data removed]",
      "text/plain": [
       "<Figure size 432x288 with 1 Axes>"
      ]
     },
     "metadata": {
      "needs_background": "light"
     },
     "output_type": "display_data"
    }
   ],
   "source": [
    "pl.figure()\n",
    "pl.hist(tracto_gt, bins=range(N_bundle+1))\n",
    "pl.show()"
   ]
  },
  {
   "cell_type": "code",
   "execution_count": 162,
   "metadata": {},
   "outputs": [],
   "source": [
    "# add multiplicative noise\n",
    "def tractography_noise(tc, noise_level):\n",
    "    noise = np.random.randn(len(tc))\n",
    "    noisy_tc = tc * (1 + noise_level*noise) # non integer\n",
    "    return noisy_tc"
   ]
  },
  {
   "cell_type": "code",
   "execution_count": 163,
   "metadata": {},
   "outputs": [],
   "source": [
    "# round to integer and normalize\n",
    "def round_and_normalize_tc(noisy_tc):\n",
    "    tmp = np.round(noisy_tc)\n",
    "    normalized_tc = tmp / np.sum(tmp)\n",
    "    return tmp.astype(np.int), normalized_tc"
   ]
  },
  {
   "cell_type": "code",
   "execution_count": 164,
   "metadata": {},
   "outputs": [],
   "source": [
    "noisy_tc = tractography_noise(tc_gt, noise_level)\n",
    "tc, norm_tc = round_and_normalize_tc(noisy_tc)"
   ]
  },
  {
   "cell_type": "code",
   "execution_count": 165,
   "metadata": {},
   "outputs": [
    {
     "data": {
      "image/png": "[encoded data removed]",
      "text/plain": [
       "<Figure size 432x288 with 1 Axes>"
      ]
     },
     "metadata": {
      "needs_background": "light"
     },
     "output_type": "display_data"
    }
   ],
   "source": [
    "pl.figure()\n",
    "pl.bar(bundle_number, norm_tc)\n",
    "# pl.scatter(bundle_number, tc_gt/np.sum(tc_gt))\n",
    "pl.show()"
   ]
  },
  {
   "cell_type": "code",
   "execution_count": 221,
   "metadata": {},
   "outputs": [
    {
     "name": "stdout",
     "output_type": "stream",
     "text": [
      "12.250143766403198\n"
     ]
    }
   ],
   "source": [
    "st = time()\n",
    "for i in range(250):\n",
    "    tracto_gt = sample_tractography(tract_dist, N_tract)\n",
    "    tc_gt, bundle_number = tractcount_from_sample(tracto_gt, len(anatomy)) # or N_bundle\n",
    "    data[:, i] = tc_gt/N_tract\n",
    "ed = time()\n",
    "print(ed-st)"
   ]
  },
  {
   "cell_type": "code",
   "execution_count": 222,
   "metadata": {},
   "outputs": [],
   "source": [
    "rng = np.random.default_rng()"
   ]
  },
  {
   "cell_type": "code",
   "execution_count": 223,
   "metadata": {},
   "outputs": [
    {
     "name": "stdout",
     "output_type": "stream",
     "text": [
      "0.042438507080078125\n"
     ]
    }
   ],
   "source": [
    "st = time()\n",
    "for i in range(250):\n",
    "    tracto_gt = rng.multinomial(N_tract, anatomy/np.sum(anatomy), size=1)\n",
    "    tc_gt, bundle_number = tractcount_from_sample(tracto_gt[0], len(anatomy)) # or N_bundle\n",
    "    data[:, i] = tc_gt/N_tract\n",
    "ed = time()\n",
    "print(ed-st)"
   ]
  },
  {
   "cell_type": "code",
   "execution_count": 224,
   "metadata": {},
   "outputs": [
    {
     "name": "stdout",
     "output_type": "stream",
     "text": [
      "0.027977943420410156\n"
     ]
    }
   ],
   "source": [
    "st = time()\n",
    "tracto_gt = rng.multinomial(N_tract, anatomy/np.sum(anatomy), size=250)\n",
    "for i in range(250):\n",
    "    tc_gt, bundle_number = tractcount_from_sample(tracto_gt[i], len(anatomy)) # or N_bundle\n",
    "    data[:, i] = tc_gt/N_tract\n",
    "ed = time()\n",
    "print(ed-st)"
   ]
  },
  {
   "cell_type": "code",
   "execution_count": 218,
   "metadata": {},
   "outputs": [
    {
     "data": {
      "text/plain": [
       "(1, 5)"
      ]
     },
     "execution_count": 218,
     "metadata": {},
     "output_type": "execute_result"
    }
   ],
   "source": [
    "tracto_gt.shape"
   ]
  },
  {
   "cell_type": "code",
   "execution_count": 166,
   "metadata": {},
   "outputs": [],
   "source": [
    "NN = 10000\n",
    "data = np.zeros((len(anatomy), NN))\n",
    "for i in range(NN):\n",
    "    tracto_gt = sample_tractography(tract_dist, N_tract)\n",
    "    tc_gt, bundle_number = tractcount_from_sample(tracto_gt, len(anatomy)) # or N_bundle\n",
    "    data[:, i] = tc_gt/N_tract"
   ]
  },
  {
   "cell_type": "code",
   "execution_count": 167,
   "metadata": {},
   "outputs": [],
   "source": [
    "GT = anatomy/np.sum(anatomy)"
   ]
  },
  {
   "cell_type": "code",
   "execution_count": 168,
   "metadata": {},
   "outputs": [],
   "source": [
    "multiplier = (data / GT[:, None]) - 1"
   ]
  },
  {
   "cell_type": "code",
   "execution_count": 169,
   "metadata": {
    "scrolled": true
   },
   "outputs": [
    {
     "data": {
      "text/plain": [
       "<matplotlib.lines.Line2D at 0x7f94006dcf28>"
      ]
     },
     "execution_count": 169,
     "metadata": {},
     "output_type": "execute_result"
    },
    {
     "data": {
      "image/png": "[encoded data removed]",
      "text/plain": [
       "<Figure size 432x288 with 1 Axes>"
      ]
     },
     "metadata": {
      "needs_background": "light"
     },
     "output_type": "display_data"
    }
   ],
   "source": [
    "pl.plot(multiplier.mean(axis=1))\n",
    "pl.axhline(0, color='red')"
   ]
  },
  {
   "cell_type": "code",
   "execution_count": 180,
   "metadata": {
    "scrolled": true
   },
   "outputs": [
    {
     "data": {
      "text/plain": [
       "0.0068591888"
      ]
     },
     "execution_count": 180,
     "metadata": {},
     "output_type": "execute_result"
    }
   ],
   "source": [
    "data[0].mean()"
   ]
  },
  {
   "cell_type": "code",
   "execution_count": 201,
   "metadata": {},
   "outputs": [
    {
     "data": {
      "text/plain": [
       "array([0.00685941, 0.02169137, 0.06859414, 0.21691371, 0.68594137])"
      ]
     },
     "execution_count": 201,
     "metadata": {},
     "output_type": "execute_result"
    }
   ],
   "source": [
    "GT"
   ]
  },
  {
   "cell_type": "code",
   "execution_count": 188,
   "metadata": {},
   "outputs": [
    {
     "data": {
      "text/plain": [
       "6.83896635456e-09"
      ]
     },
     "execution_count": 188,
     "metadata": {},
     "output_type": "execute_result"
    }
   ],
   "source": [
    "data[0].var()"
   ]
  },
  {
   "cell_type": "code",
   "execution_count": 189,
   "metadata": {
    "scrolled": true
   },
   "outputs": [
    {
     "data": {
      "text/plain": [
       "6.812362154117648e-09"
      ]
     },
     "execution_count": 189,
     "metadata": {},
     "output_type": "execute_result"
    }
   ],
   "source": [
    "GT[0]*(1-GT[0]) / N_tract"
   ]
  },
  {
   "cell_type": "code",
   "execution_count": 191,
   "metadata": {},
   "outputs": [
    {
     "data": {
      "text/plain": [
       "-3.278859971125414e-05"
      ]
     },
     "execution_count": 191,
     "metadata": {},
     "output_type": "execute_result"
    }
   ],
   "source": [
    "multiplier[0].mean()"
   ]
  },
  {
   "cell_type": "code",
   "execution_count": 192,
   "metadata": {},
   "outputs": [
    {
     "data": {
      "text/plain": [
       "0.00014535048083746526"
      ]
     },
     "execution_count": 192,
     "metadata": {},
     "output_type": "execute_result"
    }
   ],
   "source": [
    "multiplier[0].var()"
   ]
  },
  {
   "cell_type": "code",
   "execution_count": 193,
   "metadata": {},
   "outputs": [
    {
     "data": {
      "text/plain": [
       "0.00014478505426185218"
      ]
     },
     "execution_count": 193,
     "metadata": {},
     "output_type": "execute_result"
    }
   ],
   "source": [
    "GT[0]*(1-GT[0]) / (N_tract * GT[0]**2)"
   ]
  },
  {
   "cell_type": "markdown",
   "metadata": {},
   "source": [
    "For multinomial with $n$ trial and $k$ classes with probability $p_1,...,p_k$  \n",
    "$E[x_i] = n p_i$  \n",
    "$var[x_i] = n p_i (1-p_i)$  "
   ]
  },
  {
   "cell_type": "code",
   "execution_count": 202,
   "metadata": {},
   "outputs": [
    {
     "data": {
      "text/plain": [
       "[<matplotlib.lines.Line2D at 0x7f94030c5278>]"
      ]
     },
     "execution_count": 202,
     "metadata": {},
     "output_type": "execute_result"
    },
    {
     "data": {
      "image/png": "[encoded data removed]",
      "text/plain": [
       "<Figure size 432x288 with 1 Axes>"
      ]
     },
     "metadata": {
      "needs_background": "light"
     },
     "output_type": "display_data"
    }
   ],
   "source": [
    "x = np.linspace(1e-6, 1, 1000, endpoint=True)\n",
    "# x = np.linspace(1e-6, 0.1, 1000, endpoint=True)\n",
    "y = np.sqrt(x*(1-x))/x\n",
    "pl.semilogy(x,y)"
   ]
  },
  {
   "cell_type": "code",
   "execution_count": 195,
   "metadata": {},
   "outputs": [
    {
     "data": {
      "text/plain": [
       "[<matplotlib.lines.Line2D at 0x7f94016ee7b8>]"
      ]
     },
     "execution_count": 195,
     "metadata": {},
     "output_type": "execute_result"
    },
    {
     "data": {
      "image/png": "[encoded data removed]",
      "text/plain": [
       "<Figure size 432x288 with 1 Axes>"
      ]
     },
     "metadata": {
      "needs_background": "light"
     },
     "output_type": "display_data"
    }
   ],
   "source": [
    "pl.plot(multiplier.std(axis=1))\n",
    "pl.plot(np.sqrt(GT*(1-GT)/N_tract)/GT)"
   ]
  },
  {
   "cell_type": "code",
   "execution_count": 171,
   "metadata": {},
   "outputs": [
    {
     "data": {
      "image/png": "[encoded data removed]",
      "text/plain": [
       "<Figure size 432x288 with 1 Axes>"
      ]
     },
     "metadata": {
      "needs_background": "light"
     },
     "output_type": "display_data"
    },
    {
     "data": {
      "image/png": "[encoded data removed]",
      "text/plain": [
       "<Figure size 432x288 with 1 Axes>"
      ]
     },
     "metadata": {
      "needs_background": "light"
     },
     "output_type": "display_data"
    },
    {
     "data": {
      "image/png": "[encoded data removed]",
      "text/plain": [
       "<Figure size 432x288 with 1 Axes>"
      ]
     },
     "metadata": {
      "needs_background": "light"
     },
     "output_type": "display_data"
    },
    {
     "data": {
      "image/png": "[encoded data removed]",
      "text/plain": [
       "<Figure size 432x288 with 1 Axes>"
      ]
     },
     "metadata": {
      "needs_background": "light"
     },
     "output_type": "display_data"
    },
    {
     "data": {
      "image/png": "[encoded data removed]",
      "text/plain": [
       "<Figure size 432x288 with 1 Axes>"
      ]
     },
     "metadata": {
      "needs_background": "light"
     },
     "output_type": "display_data"
    }
   ],
   "source": [
    "for i in range(len(anatomy)):\n",
    "    toplot = (data[i,:]/GT[i]) - 1\n",
    "    pl.figure()\n",
    "    pl.hist(toplot, 50, density=True)\n",
    "    mu = toplot.mean()\n",
    "    sigma = toplot.std()\n",
    "    x = np.linspace(mu - 3*sigma, mu + 3*sigma, 100)\n",
    "    pl.plot(x, ss.norm.pdf(x, mu, sigma))"
   ]
  },
  {
   "cell_type": "code",
   "execution_count": null,
   "metadata": {},
   "outputs": [],
   "source": []
  },
  {
   "cell_type": "code",
   "execution_count": null,
   "metadata": {},
   "outputs": [],
   "source": []
  },
  {
   "cell_type": "code",
   "execution_count": null,
   "metadata": {},
   "outputs": [],
   "source": []
  },
  {
   "cell_type": "code",
   "execution_count": null,
   "metadata": {},
   "outputs": [],
   "source": []
  },
  {
   "cell_type": "code",
   "execution_count": null,
   "metadata": {},
   "outputs": [],
   "source": []
  },
  {
   "cell_type": "code",
   "execution_count": null,
   "metadata": {},
   "outputs": [],
   "source": []
  },
  {
   "cell_type": "code",
   "execution_count": null,
   "metadata": {},
   "outputs": [],
   "source": []
  },
  {
   "cell_type": "code",
   "execution_count": null,
   "metadata": {},
   "outputs": [],
   "source": []
  },
  {
   "cell_type": "code",
   "execution_count": null,
   "metadata": {},
   "outputs": [],
   "source": []
  },
  {
   "cell_type": "code",
   "execution_count": null,
   "metadata": {},
   "outputs": [],
   "source": []
  },
  {
   "cell_type": "code",
   "execution_count": null,
   "metadata": {},
   "outputs": [],
   "source": []
  },
  {
   "cell_type": "code",
   "execution_count": 3,
   "metadata": {},
   "outputs": [],
   "source": [
    "# tract count theoretical distribution\n",
    "tc_rv = ss.expon() # default because we will rescale by total fibers"
   ]
  },
  {
   "cell_type": "code",
   "execution_count": 5,
   "metadata": {},
   "outputs": [
    {
     "data": {
      "image/png": "[encoded data removed]",
      "text/plain": [
       "<Figure size 432x288 with 1 Axes>"
      ]
     },
     "metadata": {
      "needs_background": "light"
     },
     "output_type": "display_data"
    }
   ],
   "source": [
    "x = np.linspace(ss.expon.ppf(0.01), ss.expon.ppf(0.99), 100)\n",
    "pl.figure()\n",
    "pl.plot(x, tc_rv.pdf(x))\n",
    "pl.show()"
   ]
  },
  {
   "cell_type": "code",
   "execution_count": null,
   "metadata": {},
   "outputs": [],
   "source": [
    "# tractography\n",
    "N_bundle\n",
    "N_tract = 1e"
   ]
  }
 ],
 "metadata": {
  "kernelspec": {
   "display_name": "Python 3",
   "language": "python",
   "name": "python3"
  },
  "language_info": {
   "codemirror_mode": {
    "name": "ipython",
    "version": 3
   },
   "file_extension": ".py",
   "mimetype": "text/x-python",
   "name": "python",
   "nbconvert_exporter": "python",
   "pygments_lexer": "ipython3",
   "version": "3.5.2"
  }
 },
 "nbformat": 4,
 "nbformat_minor": 4
}
