{
 "cells": [
  {
   "cell_type": "code",
   "execution_count": 1,
   "metadata": {},
   "outputs": [],
   "source": [
    "import numpy as np\n",
    "import pylab as pl\n",
    "from scipy.stats import hypergeom"
   ]
  },
  {
   "cell_type": "code",
   "execution_count": 2,
   "metadata": {},
   "outputs": [],
   "source": [
    "population_germany = 83839732"
   ]
  },
  {
   "cell_type": "code",
   "execution_count": 3,
   "metadata": {},
   "outputs": [],
   "source": [
    "# approximate prevalence of respiratory disease i the total population\n",
    "# (i.e. would make you \"eligible\" to be randomely selected) \n",
    "# this number is a TOTAL GUESS, I didnt bother to find data\n",
    "prevalence_respiratory_disease = 0.05"
   ]
  },
  {
   "cell_type": "code",
   "execution_count": 5,
   "metadata": {},
   "outputs": [
    {
     "name": "stdout",
     "output_type": "stream",
     "text": [
      "4191987\n"
     ]
    }
   ],
   "source": [
    "# relevant population size for the random picking\n",
    "population_for_random_screening = int(np.ceil(prevalence_respiratory_disease*population_germany))\n",
    "print(population_for_random_screening)"
   ]
  },
  {
   "cell_type": "code",
   "execution_count": 10,
   "metadata": {},
   "outputs": [],
   "source": [
    "# approximate number of active cases at any gven time during the relevant random picking period\n",
    "# this number is a TOTAL GUESS, I didnt bother to find data\n",
    "active_case_covid = 16581"
   ]
  },
  {
   "cell_type": "code",
   "execution_count": 11,
   "metadata": {},
   "outputs": [
    {
     "name": "stdout",
     "output_type": "stream",
     "text": [
      "0.020 %\n"
     ]
    }
   ],
   "source": [
    "# average ratio of active cases to total population\n",
    "prevalence_covid = active_case_covid/population_germany\n",
    "print('{:.3f} %'.format(100*prevalence_covid))"
   ]
  },
  {
   "cell_type": "code",
   "execution_count": 12,
   "metadata": {},
   "outputs": [
    {
     "name": "stdout",
     "output_type": "stream",
     "text": [
      "830\n"
     ]
    }
   ],
   "source": [
    "# assuming same distribution of covid in people with respiratory_disease and without\n",
    "active_case_covid_with_respiratory_disease = int(np.ceil(prevalence_covid*population_for_random_screening))\n",
    "print(active_case_covid_with_respiratory_disease)"
   ]
  },
  {
   "cell_type": "code",
   "execution_count": 14,
   "metadata": {},
   "outputs": [],
   "source": [
    "# number of random selection without replacement in the pool of \"respiratory_disease\"\n",
    "N_trial = 3*100*7"
   ]
  },
  {
   "cell_type": "code",
   "execution_count": 15,
   "metadata": {},
   "outputs": [],
   "source": [
    "# distribution of number of covid case in the trial follows hypergeometric distribution\n",
    "discovery_distribution = hypergeom(population_for_random_screening, active_case_covid_with_respiratory_disease, N_trial)"
   ]
  },
  {
   "cell_type": "code",
   "execution_count": 16,
   "metadata": {},
   "outputs": [],
   "source": [
    "x = np.arange(0, active_case_covid_with_respiratory_disease+1)\n",
    "pmf = discovery_distribution.pmf(x)"
   ]
  },
  {
   "cell_type": "code",
   "execution_count": 17,
   "metadata": {},
   "outputs": [
    {
     "data": {
      "image/png": "[encoded data removed]",
      "text/plain": [
       "<Figure size 432x288 with 1 Axes>"
      ]
     },
     "metadata": {
      "needs_background": "light"
     },
     "output_type": "display_data"
    }
   ],
   "source": [
    "fig = pl.figure()\n",
    "ax = fig.add_subplot(111)\n",
    "ax.plot(x, pmf, 'bo')\n",
    "ax.vlines(x, 0, pmf, lw=2)\n",
    "ax.set_xlabel('# cases found in the samples')\n",
    "ax.set_ylabel('hypergeom PMF')\n",
    "pl.show()"
   ]
  },
  {
   "cell_type": "code",
   "execution_count": 24,
   "metadata": {},
   "outputs": [
    {
     "name": "stdout",
     "output_type": "stream",
     "text": [
      "Probability of finding EXACTLY 0 cases is 65.9720777003%\n",
      "Probability of finding EXACTLY 1 cases is 27.4499259308%\n",
      "Probability of finding EXACTLY 2 cases is 5.7011395680%\n",
      "Probability of finding EXACTLY 3 cases is 0.7880606832%\n",
      "Probability of finding EXACTLY 4 cases is 0.0815618227%\n",
      "Probability of finding EXACTLY 5 cases is 0.0067417316%\n",
      "Probability of finding EXACTLY 6 cases is 0.0004635977%\n",
      "Probability of finding EXACTLY 7 cases is 0.0000272791%\n",
      "Probability of finding EXACTLY 8 cases is 0.0000014021%\n",
      "Probability of finding EXACTLY 9 cases is 0.0000000640%\n",
      "Probability of finding EXACTLY 10 cases is 0.0000000026%\n",
      "Probability of finding 11 OR MORE cases is 0.0000002179%\n"
     ]
    }
   ],
   "source": [
    "ii=11\n",
    "for i in range(ii):\n",
    "    print('Probability of finding EXACTLY {} cases is {:.10f}%'.format(i, 100*discovery_distribution.pmf(i)))\n",
    "    \n",
    "print('Probability of finding {} OR MORE cases is {:.10f}%'.format(ii, 100*(1-(discovery_distribution.pmf(range(ii))).sum())))"
   ]
  },
  {
   "cell_type": "code",
   "execution_count": null,
   "metadata": {},
   "outputs": [],
   "source": []
  }
 ],
 "metadata": {
  "kernelspec": {
   "display_name": "Python 3",
   "language": "python",
   "name": "python3"
  },
  "language_info": {
   "codemirror_mode": {
    "name": "ipython",
    "version": 3
   },
   "file_extension": ".py",
   "mimetype": "text/x-python",
   "name": "python",
   "nbconvert_exporter": "python",
   "pygments_lexer": "ipython3",
   "version": "3.5.2"
  }
 },
 "nbformat": 4,
 "nbformat_minor": 4
}
