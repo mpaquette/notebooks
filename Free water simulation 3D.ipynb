{
 "cells": [
  {
   "cell_type": "code",
   "execution_count": 1,
   "metadata": {},
   "outputs": [],
   "source": [
    "import numpy as np\n",
    "import matplotlib.pyplot as pl\n",
    "import dipy.reconst.dti as dti\n",
    "from dipy.sims.voxel import single_tensor \n",
    "# from dipy.io.gradients import read_bvals_bvecs\n",
    "from dipy.core.gradients import gradient_table\n",
    "from scipy.spatial.transform import Rotation as R\n",
    "from dipy.core.sphere import disperse_charges, Sphere, HemiSphere"
   ]
  },
  {
   "cell_type": "code",
   "execution_count": 3,
   "metadata": {},
   "outputs": [],
   "source": [
    "n_pts = 64\n",
    "theta = np.pi * np.random.rand(n_pts)\n",
    "phi = 2 * np.pi * np.random.rand(n_pts)\n",
    "hsph_initial = HemiSphere(theta=theta, phi=phi)"
   ]
  },
  {
   "cell_type": "code",
   "execution_count": 4,
   "metadata": {},
   "outputs": [],
   "source": [
    "hsph_updated, potential = disperse_charges(hsph_initial, 5000)"
   ]
  },
  {
   "cell_type": "code",
   "execution_count": 14,
   "metadata": {},
   "outputs": [],
   "source": [
    "from dipy.viz import window, actor\n",
    "ren = window.Scene()\n",
    "ren.SetBackground(1, 1, 1)\n",
    "# ren.add(actor.point(hsph_initial.vertices, window.colors.red, point_radius=0.05))\n",
    "# ren.add(actor.point(hsph_updated.vertices, window.colors.green, point_radius=0.05))\n",
    "# ren.add(actor.point(np.concatenate((hsph_initial.vertices,-hsph_initial.vertices),axis=0), window.colors.red, point_radius=0.05))\n",
    "ren.add(actor.point(np.concatenate((hsph_updated.vertices,-hsph_updated.vertices),axis=0), window.colors.green, point_radius=0.05))\n",
    "window.show(ren)"
   ]
  },
  {
   "cell_type": "code",
   "execution_count": 16,
   "metadata": {},
   "outputs": [],
   "source": [
    "bvec = np.genfromtxt('/data/pt_02101_dMRI/007_C_C_NEGRA_ID/preprocessed/200724_Connectom_WB/Test_ME_dMRI/bvecs_from_scanner')"
   ]
  },
  {
   "cell_type": "code",
   "execution_count": 18,
   "metadata": {},
   "outputs": [],
   "source": [
    "bvec = bvec.T"
   ]
  },
  {
   "cell_type": "code",
   "execution_count": 19,
   "metadata": {},
   "outputs": [
    {
     "data": {
      "text/plain": [
       "array([[-0.        , -0.        ,  0.        ],\n",
       "       [-0.01960027,  0.72920992, -0.6840093 ],\n",
       "       [-0.98603068,  0.0411971 ,  0.16138865],\n",
       "       [ 0.21119325,  0.09849685,  0.97246891],\n",
       "       [-0.30500351, -0.94521087,  0.11640134],\n",
       "       [ 0.11708743, -0.10078918, -0.98799396],\n",
       "       [-0.45277432,  0.81955352, -0.35118008],\n",
       "       [-0.86950785, -0.49210444, -0.04230038],\n",
       "       [-0.19490283,  0.48430704, -0.85291241],\n",
       "       [ 0.34357077, -0.78443326, -0.51635607],\n",
       "       [ 0.70550083, -0.10820013,  0.70040082],\n",
       "       [-0.        , -0.        ,  0.        ],\n",
       "       [ 0.65285755,  0.07690678, -0.75356643],\n",
       "       [-0.3438862 ,  0.93716239, -0.05889764],\n",
       "       [-0.84461461, -0.3876067 , -0.36930639],\n",
       "       [-0.51653716,  0.82579954,  0.22637246],\n",
       "       [ 0.78219619,  0.5548973 , -0.28329862],\n",
       "       [ 0.09929286,  0.40807065,  0.90753472],\n",
       "       [ 0.17139563,  0.88977731, -0.42298921],\n",
       "       [ 0.93705904, -0.34258503, -0.06749705],\n",
       "       [ 0.15749826,  0.46909483, -0.86899042],\n",
       "       [-0.35666752, -0.81122613, -0.4633578 ],\n",
       "       [-0.        , -0.        ,  0.        ],\n",
       "       [-0.55387708,  0.41348289, -0.7226701 ],\n",
       "       [-0.46394125,  0.5180344 ,  0.71860899],\n",
       "       [ 0.89081217,  0.05520075,  0.45100616],\n",
       "       [-0.31110385, -0.68400846,  0.65980817],\n",
       "       [ 0.7120166 ,  0.26700623,  0.64941514],\n",
       "       [ 0.69552007, -0.26906908, -0.66622344],\n",
       "       [ 0.15039472, -0.90096839,  0.40698572],\n",
       "       [ 0.5772836 ,  0.5773836 ,  0.5773836 ],\n",
       "       [-0.49082565, -0.37871979,  0.784641  ],\n",
       "       [-0.82890495,  0.29990179, -0.47220282],\n",
       "       [-0.        , -0.        ,  0.        ],\n",
       "       [ 0.13329309,  0.9701497 ,  0.2025895 ],\n",
       "       [-0.96884988,  0.14929228, -0.19758978],\n",
       "       [ 0.32100723,  0.15370346, -0.93452105],\n",
       "       [ 0.64580197, -0.75720231,  0.0979003 ],\n",
       "       [-0.41918328, -0.40338391, -0.81336756],\n",
       "       [-0.49171077, -0.79731747,  0.35000767],\n",
       "       [ 0.64857286, -0.59817497, -0.4706803 ],\n",
       "       [-0.65209789, -0.75589756,  0.05819981],\n",
       "       [-0.84102277,  0.50335378, -0.19828179],\n",
       "       [-0.22299132, -0.66177423, -0.71577213],\n",
       "       [-0.        , -0.        ,  0.        ],\n",
       "       [ 0.60312143,  0.57172031, -0.55621976],\n",
       "       [-0.11908737,  0.66462949,  0.73762175],\n",
       "       [ 0.936035  ,  0.26710999, -0.22910857],\n",
       "       [ 0.0120988 ,  0.86411433,  0.50315012],\n",
       "       [-0.7866584 , -0.29812213,  0.54064014],\n",
       "       [ 0.19627912, -0.95029892, -0.24167429],\n",
       "       [ 0.37530276, -0.20650152,  0.90360664],\n",
       "       [ 0.87413099, -0.01489882, -0.48546167],\n",
       "       [ 0.35428998, -0.68268068,  0.63908192],\n",
       "       [ 0.68607677,  0.67027731,  0.28289042],\n",
       "       [-0.        , -0.        ,  0.        ],\n",
       "       [-0.45755953,  0.15968588,  0.87472264],\n",
       "       [ 0.024098  , -0.99431754,  0.1036914 ],\n",
       "       [-0.51279581, -0.09359923, -0.85339302],\n",
       "       [-0.77542962,  0.60944468,  0.16518501],\n",
       "       [ 0.03120205, -0.20831369,  0.97756424],\n",
       "       [ 0.97683124,  0.17840571,  0.11820378],\n",
       "       [ 0.22519418, -0.39358983, -0.89127697],\n",
       "       [ 0.65887542, -0.59297788,  0.46288273],\n",
       "       [ 0.45146943,  0.87654065,  0.1668887 ],\n",
       "       [-0.85881881,  0.33476835,  0.38776334],\n",
       "       [-0.        , -0.        ,  0.        ]])"
      ]
     },
     "execution_count": 19,
     "metadata": {},
     "output_type": "execute_result"
    }
   ],
   "source": [
    "bvec"
   ]
  },
  {
   "cell_type": "code",
   "execution_count": null,
   "metadata": {},
   "outputs": [],
   "source": []
  }
 ],
 "metadata": {
  "kernelspec": {
   "display_name": "Python 3",
   "language": "python",
   "name": "python3"
  },
  "language_info": {
   "codemirror_mode": {
    "name": "ipython",
    "version": 3
   },
   "file_extension": ".py",
   "mimetype": "text/x-python",
   "name": "python",
   "nbconvert_exporter": "python",
   "pygments_lexer": "ipython3",
   "version": "3.5.2"
  }
 },
 "nbformat": 4,
 "nbformat_minor": 4
}
