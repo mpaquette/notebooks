{
 "cells": [
  {
   "cell_type": "markdown",
   "metadata": {},
   "source": [
    "Assuming we have a parcellation of $M$ regions and we are doing some kind of uniform or random WM seeding."
   ]
  },
  {
   "cell_type": "markdown",
   "metadata": {},
   "source": [
    "We can categorize the outcome of a single tracking seed between either connecting any pair of regions ($K = \\frac{M(M-1)}{2}$ possible pairs) from the parcellation or connecting nothing and been rejected."
   ]
  },
  {
   "cell_type": "markdown",
   "metadata": {},
   "source": [
    "If we are doing a fixed number of seed, we should include the no connect category, if you are doing a fixed number of accepted streamlines, we can ignore it."
   ]
  },
  {
   "cell_type": "markdown",
   "metadata": {},
   "source": [
    "The count distribution as we repeat the tracking process $n$ times for this SAME seed follows a multinomial distribution $\\text{MN}(n, \\{p_i\\})$ where $p_i$ ($\\sum_i^K p_i = 1$) are the probabilities of each outcome. Its easy to see as $n \\rightarrow \\infty$ but the approximation holds at finite n, just \"noisy\"."
   ]
  },
  {
   "cell_type": "markdown",
   "metadata": {},
   "source": [
    "This view of tractography stays valid for a very wide range of different type of tracking, as long as each seed follows the same process without \"learning\" from the preceeding one, i.e. independence."
   ]
  },
  {
   "cell_type": "markdown",
   "metadata": {},
   "source": [
    "The event probability vector $\\{p_i\\}$ depends on the choice of tracking algorithm and parameters but for a fixed choice, it is the TRUE underlying connectome for that single seeding point."
   ]
  },
  {
   "cell_type": "markdown",
   "metadata": {},
   "source": [
    "A first big assumption I will make is that we can extend this to the whole seeding process. This can be seen as either assuming that $\\{p_i\\}$ is the same for each voxel in the seeding mask, which is questionable because of bundle size diffences or proximity to cortex."
   ]
  },
  {
   "cell_type": "markdown",
   "metadata": {},
   "source": [
    "This can also be seen as averaging the voxelwise probabilities $\\{p_i\\}$ into a global distribution and then imagining that for each new seed we first pick a starting position uniformely into the mask. This is a bit more believable, but it is still routinely violated by taking a fixed number of seed per voxel in the whole seeding mask. Fortunately, this specific violation is the highest probability outcome of the random uniform voxel selection process. "
   ]
  },
  {
   "cell_type": "markdown",
   "metadata": {},
   "source": [
    "A few properties of $\\text{MN}(n, \\{p_i\\})$:\n",
    "\n",
    "$X_i$: The number of count for category i after the n trials\n",
    "\n",
    "$f(x_1,...,x_K;n,p_1,...,p_K) = P(X_1=x_1 \\text{ and } ... \\text{ and } X_K=x_K) = \\frac{n!}{x_1!\\cdot\\cdot\\cdot x_K!} p_1^{x_1} \\cdot\\cdot\\cdot p_K^{x_K}$ when $\\sum_i^K x_i = n$, $0$ otherwise\n",
    "\n",
    "$E(X_i) = n p_i$\n",
    "\n",
    "$Var(X_i) = n p_i (1-p_i)$\n",
    "\n",
    "$Cov(X_i, X_j) = -n p_i p_j$ ($i \\neq j$)"
   ]
  },
  {
   "cell_type": "code",
   "execution_count": 56,
   "metadata": {},
   "outputs": [],
   "source": [
    "import numpy as np\n",
    "import matplotlib.pyplot as pl"
   ]
  },
  {
   "cell_type": "code",
   "execution_count": 48,
   "metadata": {},
   "outputs": [],
   "source": [
    "n = 100000\n",
    "P = np.array([1, 5, 10, 50, 100])\n",
    "P = P / P.sum()"
   ]
  },
  {
   "cell_type": "code",
   "execution_count": 49,
   "metadata": {},
   "outputs": [
    {
     "data": {
      "text/plain": [
       "array([  602.4,  3012. ,  6024.1, 30120.5, 60241. ])"
      ]
     },
     "execution_count": 49,
     "metadata": {},
     "output_type": "execute_result"
    }
   ],
   "source": [
    "expected_count = n*P\n",
    "np.round(expected_count, 1)"
   ]
  },
  {
   "cell_type": "code",
   "execution_count": 50,
   "metadata": {},
   "outputs": [
    {
     "data": {
      "text/plain": [
       "array([  590,  3082,  6123, 30023, 60182])"
      ]
     },
     "execution_count": 50,
     "metadata": {},
     "output_type": "execute_result"
    }
   ],
   "source": [
    "counts = np.random.multinomial(n, P)\n",
    "counts"
   ]
  },
  {
   "cell_type": "code",
   "execution_count": 51,
   "metadata": {},
   "outputs": [
    {
     "data": {
      "text/plain": [
       "array([  599.96,  3005.94,  6015.14, 30134.55, 60244.41])"
      ]
     },
     "execution_count": 51,
     "metadata": {},
     "output_type": "execute_result"
    }
   ],
   "source": [
    "testretest = 100\n",
    "tmp = np.zeros((testretest, len(P)))\n",
    "for i in range(testretest):\n",
    "    counts = np.random.multinomial(n, P)\n",
    "    tmp[i] = counts\n",
    "    \n",
    "# mean of counts\n",
    "tmp.mean(0)"
   ]
  },
  {
   "cell_type": "code",
   "execution_count": 52,
   "metadata": {},
   "outputs": [
    {
     "data": {
      "text/plain": [
       "array([ 24.46999519,  54.04927242,  75.24093974, 145.07945276,\n",
       "       154.7618383 ])"
      ]
     },
     "execution_count": 52,
     "metadata": {},
     "output_type": "execute_result"
    }
   ],
   "source": [
    "expected_variance = n*P*(1-P)\n",
    "expected_variance**0.5"
   ]
  },
  {
   "cell_type": "code",
   "execution_count": 53,
   "metadata": {
    "scrolled": true
   },
   "outputs": [
    {
     "data": {
      "text/plain": [
       "array([ 26.76524612,  51.78084974,  71.76740486, 155.85970454,\n",
       "       162.00025278])"
      ]
     },
     "execution_count": 53,
     "metadata": {},
     "output_type": "execute_result"
    }
   ],
   "source": [
    "# std of counts\n",
    "tmp.std(0)"
   ]
  },
  {
   "cell_type": "code",
   "execution_count": 54,
   "metadata": {},
   "outputs": [
    {
     "data": {
      "text/plain": [
       "array([0.04461172, 0.01722618, 0.01193113, 0.00517213, 0.00268905])"
      ]
     },
     "execution_count": 54,
     "metadata": {},
     "output_type": "execute_result"
    }
   ],
   "source": [
    "# relative expected error size\n",
    "tmp.std(0)/tmp.mean(0)"
   ]
  },
  {
   "cell_type": "markdown",
   "metadata": {},
   "source": [
    "### We can see that the multinomial gives us back known \"properties\" of connectivity matrix such as as strong correlation between the test-retest count std and the connectivity probability."
   ]
  },
  {
   "cell_type": "code",
   "execution_count": 67,
   "metadata": {
    "scrolled": true
   },
   "outputs": [
    {
     "data": {
      "image/png": "[encoded data removed]",
      "text/plain": [
       "<Figure size 432x288 with 1 Axes>"
      ]
     },
     "metadata": {},
     "output_type": "display_data"
    }
   ],
   "source": [
    "pl.figure()\n",
    "pl.plot(np.linspace(0,1,100,endpoint=True), np.linspace(0,1,100,endpoint=True)*(1-np.linspace(0,1,100,endpoint=True)))\n",
    "pl.plot(np.linspace(0,0.25,100,endpoint=True), np.linspace(0,0.25,100,endpoint=True))\n",
    "pl.show()"
   ]
  },
  {
   "cell_type": "code",
   "execution_count": 68,
   "metadata": {},
   "outputs": [
    {
     "data": {
      "image/png": "[encoded data removed]",
      "text/plain": [
       "<Figure size 432x288 with 1 Axes>"
      ]
     },
     "metadata": {},
     "output_type": "display_data"
    }
   ],
   "source": [
    "pl.figure()\n",
    "pl.plot(np.linspace(0,0.1,100,endpoint=True), np.linspace(0,0.1,100,endpoint=True)*(1-np.linspace(0,0.1,100,endpoint=True)))\n",
    "pl.plot(np.linspace(0,0.1,100,endpoint=True), np.linspace(0,0.1,100,endpoint=True))\n",
    "pl.show()"
   ]
  },
  {
   "cell_type": "markdown",
   "metadata": {},
   "source": [
    "Now, when doing classical hypothesis testing, we are essentially ignoring the covariance of the multinomial.\n",
    "\n",
    "We can thinker with it to see the effect.\n",
    "\n",
    "Let's assume a base case of 10 outcomes with equal probability and a modified case where outcome 0 as 10% bigger probability than the rest:"
   ]
  },
  {
   "cell_type": "code",
   "execution_count": 69,
   "metadata": {},
   "outputs": [
    {
     "data": {
      "text/plain": [
       "array([0.1, 0.1, 0.1, 0.1, 0.1, 0.1, 0.1, 0.1, 0.1, 0.1])"
      ]
     },
     "execution_count": 69,
     "metadata": {},
     "output_type": "execute_result"
    }
   ],
   "source": [
    "K = 10\n",
    "P_base = np.ones(K)\n",
    "P_base = P_base / P_base.sum()\n",
    "P_base"
   ]
  },
  {
   "cell_type": "code",
   "execution_count": 73,
   "metadata": {
    "scrolled": true
   },
   "outputs": [
    {
     "data": {
      "text/plain": [
       "array([0.10891089, 0.0990099 , 0.0990099 , 0.0990099 , 0.0990099 ,\n",
       "       0.0990099 , 0.0990099 , 0.0990099 , 0.0990099 , 0.0990099 ])"
      ]
     },
     "execution_count": 73,
     "metadata": {},
     "output_type": "execute_result"
    }
   ],
   "source": [
    "P_mod = np.ones(K)\n",
    "P_mod[0] *= 1.1\n",
    "P_mod = P_mod / P_mod.sum()\n",
    "P_mod"
   ]
  },
  {
   "cell_type": "markdown",
   "metadata": {},
   "source": [
    "Unsuprisingly, if we only check the pairwise differences, outcome 0 has \"grown\" by about 8.9% and all the other outcome have \"Shrunk\" by about 1%"
   ]
  },
  {
   "cell_type": "code",
   "execution_count": 76,
   "metadata": {},
   "outputs": [
    {
     "data": {
      "text/plain": [
       "0.08910891089108919"
      ]
     },
     "execution_count": 76,
     "metadata": {},
     "output_type": "execute_result"
    }
   ],
   "source": [
    "P_mod[0]/P_base[0] - 1"
   ]
  },
  {
   "cell_type": "code",
   "execution_count": 77,
   "metadata": {},
   "outputs": [
    {
     "data": {
      "text/plain": [
       "-0.00990099009900991"
      ]
     },
     "execution_count": 77,
     "metadata": {},
     "output_type": "execute_result"
    }
   ],
   "source": [
    "P_mod[1]/P_base[1] - 1"
   ]
  },
  {
   "cell_type": "markdown",
   "metadata": {},
   "source": [
    "It's hard to make generic statements about the effect of this phenomenon in practice because the dynamics are very depending on the total number \"collateral\" outcome \"absorbing\" the change (because it could potentially be a subset of all outcomes) and the relative \"size\" differences."
   ]
  },
  {
   "cell_type": "markdown",
   "metadata": {},
   "source": [
    "Both we can still do simple simulation to get a feeling.\n",
    "\n",
    "Let's say that in our 10 outcome case, we do 10000 \"streamlines\" for each case and we log the count differences for each bundle over 10000 trial"
   ]
  },
  {
   "cell_type": "code",
   "execution_count": 80,
   "metadata": {},
   "outputs": [],
   "source": [
    "n = 10000\n",
    "n_trial = 10000\n",
    "# counts_mod - counts_base\n",
    "results = np.zeros((n_trial, len(P_base)))\n",
    "\n",
    "for i in range(n_trial):\n",
    "    counts_mod = np.random.multinomial(n, P_mod)\n",
    "    counts_base = np.random.multinomial(n, P_base)\n",
    "    results[i] = counts_mod - counts_base\n",
    "    "
   ]
  },
  {
   "cell_type": "code",
   "execution_count": 86,
   "metadata": {},
   "outputs": [
    {
     "data": {
      "image/png": "[encoded data removed]",
      "text/plain": [
       "<Figure size 432x288 with 1 Axes>"
      ]
     },
     "metadata": {},
     "output_type": "display_data"
    }
   ],
   "source": [
    "pl.figure()\n",
    "pl.title(\"Dist mod-minus-base outcome 0\")\n",
    "pl.hist(results[:,0], 100)\n",
    "pl.axvline(n*(P_mod[0]-P_base[0]), color='red')\n",
    "pl.show()"
   ]
  },
  {
   "cell_type": "code",
   "execution_count": 87,
   "metadata": {
    "scrolled": true
   },
   "outputs": [
    {
     "data": {
      "image/png": "[encoded data removed]",
      "text/plain": [
       "<Figure size 432x288 with 1 Axes>"
      ]
     },
     "metadata": {},
     "output_type": "display_data"
    }
   ],
   "source": [
    "pl.figure()\n",
    "pl.title(\"Dist mod-minus-base outcome 1\")\n",
    "pl.hist(results[:,1], 100)\n",
    "pl.axvline(n*(P_mod[1]-P_base[1]), color='red')\n",
    "pl.show()"
   ]
  },
  {
   "cell_type": "markdown",
   "metadata": {},
   "source": [
    "As expected, the diffences follows what we expect, which makes them a bit awkward for straight hope hypothesis testing.\n",
    "\n",
    "This process is quite high dimentional and gets messy quickly (I mean, for let's say 50 parcels, we have 1225 possible outcomes) but if we just want to test if one specific outcome has \"grown\" while everything else stays to scale, we can start by generating the baseline probability from the expected values (i.e. straight up counts/#seed) and then compute probability of the observed modified count by scaling that one outcome:"
   ]
  },
  {
   "cell_type": "code",
   "execution_count": 223,
   "metadata": {},
   "outputs": [],
   "source": [
    "import scipy.stats as ss\n",
    "\n",
    "# as a sanity check, we do it from the ground truth probability (\"noiseless\" data)\n",
    "# we will test for outcome 0 within [-20%, +20%] with 1% steps\n",
    "test_deviation = np.arange(-0.2, 0.2, 0.01)\n",
    "test_value = np.zeros(len(test_deviation))\n",
    "\n",
    "for i in range(len(test_deviation)):\n",
    "#     new_P = observed_P_base.copy()\n",
    "    new_P = P_base.copy()\n",
    "    new_P[0] *= (1+test_deviation[i])\n",
    "    new_P = new_P / new_P.sum()\n",
    "    \n",
    "    # create random variable following what we want to test\n",
    "    rv = ss.multinomial(n, new_P)\n",
    "    # computing likelihood of observed modified P\n",
    "#     tmp = rv.pmf(counts_mod)\n",
    "    fake_count = np.round(n*P_mod).astype(int)\n",
    "    fake_count[-1] += (n-fake_count.sum())\n",
    "    tmp = rv.pmf(fake_count)\n",
    "    test_value[i] = tmp"
   ]
  },
  {
   "cell_type": "code",
   "execution_count": 224,
   "metadata": {
    "scrolled": false
   },
   "outputs": [
    {
     "data": {
      "image/png": "[encoded data removed]",
      "text/plain": [
       "<Figure size 432x288 with 1 Axes>"
      ]
     },
     "metadata": {},
     "output_type": "display_data"
    }
   ],
   "source": [
    "pl.figure()\n",
    "imax = np.argmax(test_value)\n",
    "pl.title('outcome 0, peak = {:.1f} %'.format(100*test_deviation[imax]))\n",
    "pl.plot(test_deviation, test_value)\n",
    "pl.axvline(0.1, color='red')\n",
    "pl.show()"
   ]
  },
  {
   "cell_type": "code",
   "execution_count": 225,
   "metadata": {},
   "outputs": [],
   "source": [
    "# as a sanity check, we do it from the ground truth probability (\"noiseless\" data)\n",
    "# we will test for outcome 0 within [-20%, +20%] with 0.1% steps\n",
    "test_deviation = np.arange(-0.2, 0.2, 0.001)\n",
    "test_value = np.zeros(len(test_deviation))\n",
    "\n",
    "for i in range(len(test_deviation)):\n",
    "#     new_P = observed_P_base.copy()\n",
    "    new_P = P_base.copy()\n",
    "    new_P[1] *= (1+test_deviation[i])\n",
    "    new_P = new_P / new_P.sum()\n",
    "    \n",
    "    # create random variable following what we want to test\n",
    "    rv = ss.multinomial(n, new_P)\n",
    "    # computing likelihood of observed modified P\n",
    "#     tmp = rv.pmf(counts_mod)\n",
    "    fake_count = np.round(n*P_mod).astype(int)\n",
    "    fake_count[0] += (n-fake_count.sum())\n",
    "    tmp = rv.pmf(fake_count)\n",
    "    test_value[i] = tmp"
   ]
  },
  {
   "cell_type": "code",
   "execution_count": 226,
   "metadata": {},
   "outputs": [
    {
     "data": {
      "image/png": "[encoded data removed]",
      "text/plain": [
       "<Figure size 432x288 with 1 Axes>"
      ]
     },
     "metadata": {},
     "output_type": "display_data"
    }
   ],
   "source": [
    "pl.figure()\n",
    "imax = np.argmax(test_value)\n",
    "pl.title('outcome 1, wrong assumption, peak = {:.1f} %'.format(100*test_deviation[imax]))\n",
    "pl.plot(test_deviation, test_value)\n",
    "pl.axvline(0.0, color='red')\n",
    "pl.show()"
   ]
  },
  {
   "cell_type": "code",
   "execution_count": 227,
   "metadata": {},
   "outputs": [],
   "source": [
    "# as a sanity check, we do it from the ground truth probability (\"noiseless\" data)\n",
    "# we will test for outcome 1 within [-20%, +20%] with 0.1% steps\n",
    "test_deviation = np.arange(-0.2, 0.2, 0.001)\n",
    "test_value = np.zeros(len(test_deviation))\n",
    "\n",
    "for i in range(len(test_deviation)):\n",
    "#     new_P = observed_P_base.copy()\n",
    "    new_P = P_mod.copy()\n",
    "    new_P[1] *= (1+test_deviation[i])\n",
    "    new_P = new_P / new_P.sum()\n",
    "    \n",
    "    # create random variable following what we want to test\n",
    "    rv = ss.multinomial(n, new_P)\n",
    "    # computing likelihood of observed modified P\n",
    "#     tmp = rv.pmf(counts_mod)\n",
    "    fake_count = np.round(n*P_mod).astype(int)\n",
    "    fake_count[0] += (n-fake_count.sum())\n",
    "    tmp = rv.pmf(fake_count)\n",
    "    test_value[i] = tmp"
   ]
  },
  {
   "cell_type": "code",
   "execution_count": 228,
   "metadata": {},
   "outputs": [
    {
     "data": {
      "image/png": "[encoded data removed]",
      "text/plain": [
       "<Figure size 432x288 with 1 Axes>"
      ]
     },
     "metadata": {},
     "output_type": "display_data"
    }
   ],
   "source": [
    "pl.figure()\n",
    "imax = np.argmax(test_value)\n",
    "pl.title('outcome 1, peak = {:.1f} %'.format(100*test_deviation[imax]))\n",
    "pl.plot(test_deviation, test_value)\n",
    "pl.axvline(0.0, color='red')\n",
    "pl.show()"
   ]
  },
  {
   "cell_type": "markdown",
   "metadata": {},
   "source": [
    "Everything looks good, now let's do it from \"data\" where the P_base are estimated. We will do again 10000 trial and looks at computed peak for outcome 0 and outcome 1"
   ]
  },
  {
   "cell_type": "code",
   "execution_count": 229,
   "metadata": {},
   "outputs": [
    {
     "name": "stdout",
     "output_type": "stream",
     "text": [
      "[0.098 0.1   0.098 0.103 0.095 0.099 0.099 0.103 0.101 0.103]\n",
      "[0.107 0.101 0.099 0.098 0.097 0.105 0.101 0.096 0.096 0.1  ]\n"
     ]
    }
   ],
   "source": [
    "# same setup, here's an example\n",
    "counts_base = np.random.multinomial(n, P_base)\n",
    "observed_P_base = counts_base/n\n",
    "print(np.round(observed_P_base, 3))\n",
    "\n",
    "counts_mod = np.random.multinomial(n, P_mod)\n",
    "observed_P_mod = counts_mod/n\n",
    "print(np.round(observed_P_mod, 3))"
   ]
  },
  {
   "cell_type": "code",
   "execution_count": 210,
   "metadata": {},
   "outputs": [],
   "source": [
    "n = 10000\n",
    "n_trial = 1000\n",
    "# counts_mod - counts_base\n",
    "results = np.zeros((n_trial, len(P_base)))\n",
    "peak_out0 = np.zeros(n_trial)\n",
    "peak_out1 = np.zeros(n_trial)\n",
    "peak_out1_modified = np.zeros(n_trial)\n",
    "\n",
    "test_deviation = np.arange(-0.2, 0.2, 0.01)\n",
    "\n",
    "for i in range(n_trial):\n",
    "    counts_mod = np.random.multinomial(n, P_mod)\n",
    "#     observed_P_mod = counts_mod/n\n",
    "    counts_base = np.random.multinomial(n, P_base)\n",
    "    observed_P_base = counts_base/n\n",
    "    results[i] = counts_mod - counts_base\n",
    "    \n",
    "    # test for outcome 0\n",
    "    test_value = np.zeros(len(test_deviation))\n",
    "    \n",
    "    for j in range(len(test_deviation)):\n",
    "        new_P = observed_P_base.copy()\n",
    "        new_P[0] *= (1+test_deviation[j])\n",
    "        new_P = new_P / new_P.sum()\n",
    "    \n",
    "        # create random variable following what we want to test\n",
    "        rv = ss.multinomial(n, new_P)\n",
    "        # computing likelihood of observed modified P\n",
    "        tmp = rv.pmf(counts_mod)\n",
    "        test_value[j] = tmp\n",
    "    peak_out0[i] = test_deviation[np.argmax(test_value)]\n",
    "    \n",
    "    # test for outcome 1\n",
    "    test_value = np.zeros(len(test_deviation))\n",
    "    \n",
    "    for j in range(len(test_deviation)):\n",
    "        new_P = observed_P_base.copy()\n",
    "        new_P[1] *= (1+test_deviation[j])\n",
    "        new_P = new_P / new_P.sum()\n",
    "    \n",
    "        # create random variable following what we want to test\n",
    "        rv = ss.multinomial(n, new_P)\n",
    "        # computing likelihood of observed modified P\n",
    "        tmp = rv.pmf(counts_mod)\n",
    "        test_value[j] = tmp\n",
    "    peak_out1[i] = test_deviation[np.argmax(test_value)]\n",
    "    \n",
    "    # test for outcome 1 USING result for test out0\n",
    "    test_value = np.zeros(len(test_deviation))\n",
    "    \n",
    "    newest_P = observed_P_base.copy()\n",
    "    newest_P[0] *= (1+peak_out0[i])\n",
    "    newest_P = newest_P / newest_P.sum()\n",
    "    for j in range(len(test_deviation)):\n",
    "        new_P = newest_P.copy()\n",
    "        new_P[1] *= (1+test_deviation[j])\n",
    "        new_P = new_P / new_P.sum()\n",
    "    \n",
    "        # create random variable following what we want to test\n",
    "        rv = ss.multinomial(n, new_P)\n",
    "        # computing likelihood of observed modified P\n",
    "        tmp = rv.pmf(counts_mod)\n",
    "        test_value[j] = tmp\n",
    "    peak_out1_modified[i] = test_deviation[np.argmax(test_value)]\n",
    "    \n",
    "    \n",
    "    "
   ]
  },
  {
   "cell_type": "code",
   "execution_count": 222,
   "metadata": {},
   "outputs": [
    {
     "data": {
      "image/png": "[encoded data removed]",
      "text/plain": [
       "<Figure size 432x288 with 1 Axes>"
      ]
     },
     "metadata": {},
     "output_type": "display_data"
    }
   ],
   "source": [
    "pl.figure()\n",
    "pl.title('peak for outcome 0, mean = {:.2f}%'.format(100*peak_out0.mean()))\n",
    "pl.hist(peak_out0, 25, color='lightblue')\n",
    "pl.axvline(0.1, color='red')\n",
    "pl.axvline(peak_out0.mean(), color='green')\n",
    "pl.show()"
   ]
  },
  {
   "cell_type": "code",
   "execution_count": 221,
   "metadata": {},
   "outputs": [
    {
     "data": {
      "image/png": "[encoded data removed]",
      "text/plain": [
       "<Figure size 432x288 with 1 Axes>"
      ]
     },
     "metadata": {},
     "output_type": "display_data"
    }
   ],
   "source": [
    "pl.figure()\n",
    "pl.title('peak for WRONG outcome 1, mean = {:.2f}%'.format(100*peak_out1.mean()))\n",
    "pl.hist(peak_out1, 25, color='lightblue')\n",
    "pl.axvline(0.0, color='red')\n",
    "pl.axvline(peak_out1.mean(), color='green')\n",
    "pl.show()"
   ]
  },
  {
   "cell_type": "code",
   "execution_count": 220,
   "metadata": {},
   "outputs": [
    {
     "data": {
      "image/png": "[encoded data removed]",
      "text/plain": [
       "<Figure size 432x288 with 1 Axes>"
      ]
     },
     "metadata": {},
     "output_type": "display_data"
    }
   ],
   "source": [
    "pl.figure()\n",
    "pl.title('peak for WRONG outcome 1, mean = {:.2f}%'.format(100*peak_out1_modified.mean()))\n",
    "pl.hist(peak_out1_modified, 25, color='lightblue')\n",
    "pl.axvline(0.0, color='red')\n",
    "pl.axvline(peak_out1_modified.mean(), color='green')\n",
    "pl.show()"
   ]
  },
  {
   "cell_type": "code",
   "execution_count": null,
   "metadata": {},
   "outputs": [],
   "source": []
  },
  {
   "cell_type": "code",
   "execution_count": null,
   "metadata": {},
   "outputs": [],
   "source": []
  },
  {
   "cell_type": "code",
   "execution_count": null,
   "metadata": {},
   "outputs": [],
   "source": []
  },
  {
   "cell_type": "code",
   "execution_count": null,
   "metadata": {},
   "outputs": [],
   "source": []
  },
  {
   "cell_type": "code",
   "execution_count": null,
   "metadata": {},
   "outputs": [],
   "source": []
  },
  {
   "cell_type": "code",
   "execution_count": null,
   "metadata": {},
   "outputs": [],
   "source": []
  }
 ],
 "metadata": {
  "kernelspec": {
   "display_name": "Python 3",
   "language": "python",
   "name": "python3"
  },
  "language_info": {
   "codemirror_mode": {
    "name": "ipython",
    "version": 3
   },
   "file_extension": ".py",
   "mimetype": "text/x-python",
   "name": "python",
   "nbconvert_exporter": "python",
   "pygments_lexer": "ipython3",
   "version": "3.5.2"
  }
 },
 "nbformat": 4,
 "nbformat_minor": 2
}
