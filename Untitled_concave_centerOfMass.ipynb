{
 "cells": [
  {
   "cell_type": "code",
   "execution_count": 79,
   "metadata": {},
   "outputs": [],
   "source": [
    "import numpy as np\n",
    "import pylab as pl\n",
    "from matplotlib.patches import Circle"
   ]
  },
  {
   "cell_type": "code",
   "execution_count": 80,
   "metadata": {},
   "outputs": [],
   "source": [
    "image = np.zeros((50,50))"
   ]
  },
  {
   "cell_type": "code",
   "execution_count": 81,
   "metadata": {},
   "outputs": [],
   "source": [
    "# M == -1\n",
    "image[35:40, 30:40] = -1"
   ]
  },
  {
   "cell_type": "code",
   "execution_count": 82,
   "metadata": {},
   "outputs": [],
   "source": [
    "# P == 1\n",
    "image[31:35, 30:40] = 1\n",
    "image[31:40, 40:45] = 1\n",
    "image[31:40, 27:30] = 1\n",
    "image[35:40, 15:27] = 1"
   ]
  },
  {
   "cell_type": "code",
   "execution_count": 83,
   "metadata": {},
   "outputs": [],
   "source": [
    "# voxel idx\n",
    "M_idx = np.where(image==-1)\n",
    "P_idx = np.where(image==1)"
   ]
  },
  {
   "cell_type": "code",
   "execution_count": 84,
   "metadata": {},
   "outputs": [],
   "source": [
    "# center of mass\n",
    "C_M = (M_idx[1].mean(), M_idx[0].mean())\n",
    "C_P = (P_idx[1].mean(), P_idx[0].mean())"
   ]
  },
  {
   "cell_type": "code",
   "execution_count": 85,
   "metadata": {},
   "outputs": [
    {
     "data": {
      "image/png": "[encoded data removed]",
      "text/plain": [
       "<Figure size 504x504 with 1 Axes>"
      ]
     },
     "metadata": {
      "needs_background": "light"
     },
     "output_type": "display_data"
    }
   ],
   "source": [
    "pl.figure(figsize=(7,7))\n",
    "pl.imshow(image, cmap=pl.cm.jet)\n",
    "cc_M = Circle(C_M, radius=0.4, color='white')\n",
    "pl.gca().add_patch(cc_M)\n",
    "cc_P = Circle(C_P, radius=0.4, color='yellow')\n",
    "pl.gca().add_patch(cc_P)\n",
    "pl.show()"
   ]
  },
  {
   "cell_type": "code",
   "execution_count": null,
   "metadata": {},
   "outputs": [],
   "source": []
  },
  {
   "cell_type": "code",
   "execution_count": 86,
   "metadata": {},
   "outputs": [],
   "source": [
    "def A_vs_B_cm(A, B):\n",
    "    above_s = 'below'\n",
    "    if (A[0].mean() - B[0].mean()) < 0:\n",
    "        above_s = 'above'\n",
    "    left_s = 'right'\n",
    "    if (A[1].mean() - B[1].mean()) < 0:\n",
    "        left_s = 'left'\n",
    "    print('A is {} of B and A is on the {} of B'.format(above_s, left_s))"
   ]
  },
  {
   "cell_type": "code",
   "execution_count": 87,
   "metadata": {},
   "outputs": [
    {
     "name": "stdout",
     "output_type": "stream",
     "text": [
      "A is above of B and A is on the left of B\n"
     ]
    }
   ],
   "source": [
    "A_vs_B_cm(P_idx, M_idx)"
   ]
  },
  {
   "cell_type": "code",
   "execution_count": 88,
   "metadata": {},
   "outputs": [],
   "source": [
    "def A_vs_B_bin(A, B):\n",
    "    aboveness = 0\n",
    "    leftness = 0\n",
    "    NA = A[0].shape[0]\n",
    "    NB = B[0].shape[0]\n",
    "    for i in range(NA):\n",
    "        for j in range(NB):\n",
    "            if A[0][i] < B[0][j]:\n",
    "                aboveness += 1\n",
    "            elif A[0][i] > B[0][j]:\n",
    "                aboveness -= 1\n",
    "            if A[1][i] < B[1][j]:\n",
    "                leftness += 1\n",
    "            elif A[1][i] > B[1][j]:\n",
    "                leftness -= 1\n",
    "    return aboveness/(NA*NB), leftness/(NA*NB)"
   ]
  },
  {
   "cell_type": "code",
   "execution_count": 89,
   "metadata": {},
   "outputs": [
    {
     "data": {
      "text/plain": [
       "(0.4186046511627907, 0.2441860465116279)"
      ]
     },
     "execution_count": 89,
     "metadata": {},
     "output_type": "execute_result"
    }
   ],
   "source": [
    "A_vs_B_bin(P_idx, M_idx)"
   ]
  },
  {
   "cell_type": "code",
   "execution_count": 90,
   "metadata": {},
   "outputs": [
    {
     "data": {
      "text/plain": [
       "array([3.94186047, 1.88372093])"
      ]
     },
     "execution_count": 90,
     "metadata": {},
     "output_type": "execute_result"
    }
   ],
   "source": [
    "np.array(C_M) - np.array(C_P)"
   ]
  },
  {
   "cell_type": "code",
   "execution_count": null,
   "metadata": {},
   "outputs": [],
   "source": []
  }
 ],
 "metadata": {
  "kernelspec": {
   "display_name": "Python 3",
   "language": "python",
   "name": "python3"
  },
  "language_info": {
   "codemirror_mode": {
    "name": "ipython",
    "version": 3
   },
   "file_extension": ".py",
   "mimetype": "text/x-python",
   "name": "python",
   "nbconvert_exporter": "python",
   "pygments_lexer": "ipython3",
   "version": "3.5.2"
  }
 },
 "nbformat": 4,
 "nbformat_minor": 4
}
